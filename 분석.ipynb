{
 "metadata": {
  "language_info": {
   "codemirror_mode": {
    "name": "ipython",
    "version": 3
   },
   "file_extension": ".py",
   "mimetype": "text/x-python",
   "name": "python",
   "nbconvert_exporter": "python",
   "pygments_lexer": "ipython3",
   "version": "3.8.5"
  },
  "orig_nbformat": 2,
  "kernelspec": {
   "name": "python385jvsc74a57bd0637a43e0ec1a25e91df580c4dae84c341da4adae0bb08dc5d51044574a1fed89",
   "display_name": "Python 3.8.5 64-bit ('base': conda)"
  }
 },
 "nbformat": 4,
 "nbformat_minor": 2,
 "cells": [
  {
   "cell_type": "code",
   "execution_count": 1,
   "metadata": {},
   "outputs": [],
   "source": [
    "import pandas as pd"
   ]
  },
  {
   "cell_type": "code",
   "execution_count": 2,
   "metadata": {},
   "outputs": [
    {
     "output_type": "stream",
     "name": "stderr",
     "text": [
      "C:\\Users\\jhseo\\Anaconda3\\lib\\site-packages\\IPython\\core\\interactiveshell.py:3146: DtypeWarning: Columns (5) have mixed types.Specify dtype option on import or set low_memory=False.\n  has_raised = await self.run_ast_nodes(code_ast.body, cell_name,\n"
     ]
    },
    {
     "output_type": "execute_result",
     "data": {
      "text/plain": [
       "   Year Quarter  gender age_group amount_group customer_zip_code hour_range  \\\n",
       "0  2021      Q2  Female       70+       90000~             22811   17~20.59   \n",
       "1  2021      Q2  Female       70+  70000~90000             22815   11~13.59   \n",
       "2  2021      Q2    Male       70+  70000~90000             22792   17~20.59   \n",
       "3  2021      Q2    Male       70+  70000~90000             22740   17~20.59   \n",
       "4  2021      Q2    Male       70+  70000~90000             22643   11~13.59   \n",
       "\n",
       "           category_name  month  day  dayofweek  customerid  Count order_group  \n",
       "0   Category Unsuspected      4    9          4  3005851110      1         1~3  \n",
       "1                 Bossam      4    8          3  3005350181      1         1~3  \n",
       "2           Chinese food      5    2          6  3022047223      1         1~3  \n",
       "3  an eclipse of the sun      4   20          1  3004021631      1         1~3  \n",
       "4           Chinese food      5    8          5  3022999138      1         1~3  "
      ],
      "text/html": "<div>\n<style scoped>\n    .dataframe tbody tr th:only-of-type {\n        vertical-align: middle;\n    }\n\n    .dataframe tbody tr th {\n        vertical-align: top;\n    }\n\n    .dataframe thead th {\n        text-align: right;\n    }\n</style>\n<table border=\"1\" class=\"dataframe\">\n  <thead>\n    <tr style=\"text-align: right;\">\n      <th></th>\n      <th>Year</th>\n      <th>Quarter</th>\n      <th>gender</th>\n      <th>age_group</th>\n      <th>amount_group</th>\n      <th>customer_zip_code</th>\n      <th>hour_range</th>\n      <th>category_name</th>\n      <th>month</th>\n      <th>day</th>\n      <th>dayofweek</th>\n      <th>customerid</th>\n      <th>Count</th>\n      <th>order_group</th>\n    </tr>\n  </thead>\n  <tbody>\n    <tr>\n      <th>0</th>\n      <td>2021</td>\n      <td>Q2</td>\n      <td>Female</td>\n      <td>70+</td>\n      <td>90000~</td>\n      <td>22811</td>\n      <td>17~20.59</td>\n      <td>Category Unsuspected</td>\n      <td>4</td>\n      <td>9</td>\n      <td>4</td>\n      <td>3005851110</td>\n      <td>1</td>\n      <td>1~3</td>\n    </tr>\n    <tr>\n      <th>1</th>\n      <td>2021</td>\n      <td>Q2</td>\n      <td>Female</td>\n      <td>70+</td>\n      <td>70000~90000</td>\n      <td>22815</td>\n      <td>11~13.59</td>\n      <td>Bossam</td>\n      <td>4</td>\n      <td>8</td>\n      <td>3</td>\n      <td>3005350181</td>\n      <td>1</td>\n      <td>1~3</td>\n    </tr>\n    <tr>\n      <th>2</th>\n      <td>2021</td>\n      <td>Q2</td>\n      <td>Male</td>\n      <td>70+</td>\n      <td>70000~90000</td>\n      <td>22792</td>\n      <td>17~20.59</td>\n      <td>Chinese food</td>\n      <td>5</td>\n      <td>2</td>\n      <td>6</td>\n      <td>3022047223</td>\n      <td>1</td>\n      <td>1~3</td>\n    </tr>\n    <tr>\n      <th>3</th>\n      <td>2021</td>\n      <td>Q2</td>\n      <td>Male</td>\n      <td>70+</td>\n      <td>70000~90000</td>\n      <td>22740</td>\n      <td>17~20.59</td>\n      <td>an eclipse of the sun</td>\n      <td>4</td>\n      <td>20</td>\n      <td>1</td>\n      <td>3004021631</td>\n      <td>1</td>\n      <td>1~3</td>\n    </tr>\n    <tr>\n      <th>4</th>\n      <td>2021</td>\n      <td>Q2</td>\n      <td>Male</td>\n      <td>70+</td>\n      <td>70000~90000</td>\n      <td>22643</td>\n      <td>11~13.59</td>\n      <td>Chinese food</td>\n      <td>5</td>\n      <td>8</td>\n      <td>5</td>\n      <td>3022999138</td>\n      <td>1</td>\n      <td>1~3</td>\n    </tr>\n  </tbody>\n</table>\n</div>"
     },
     "metadata": {},
     "execution_count": 2
    }
   ],
   "source": [
    "df = pd.read_csv('customerwise_full.csv')\n",
    "df_org = df.copy()\n",
    "df.head()"
   ]
  },
  {
   "cell_type": "code",
   "execution_count": 3,
   "metadata": {},
   "outputs": [
    {
     "output_type": "execute_result",
     "data": {
      "text/plain": [
       "Index(['Year', 'Quarter', 'gender', 'age_group', 'amount_group',\n",
       "       'customer_zip_code', 'hour_range', 'category_name', 'month', 'day',\n",
       "       'dayofweek', 'customerid', 'Count', 'order_group'],\n",
       "      dtype='object')"
      ]
     },
     "metadata": {},
     "execution_count": 3
    }
   ],
   "source": [
    "df.columns"
   ]
  },
  {
   "cell_type": "code",
   "execution_count": 4,
   "metadata": {},
   "outputs": [
    {
     "output_type": "execute_result",
     "data": {
      "text/plain": [
       "   Year Quarter  gender age_group amount_group customer_zip_code hour_range  \\\n",
       "0  2021      Q2  Female       70+       90000~             22811   17~20.59   \n",
       "1  2021      Q2  Female       70+  70000~90000             22815   11~13.59   \n",
       "2  2021      Q2    Male       70+  70000~90000             22792   17~20.59   \n",
       "3  2021      Q2    Male       70+  70000~90000             22740   17~20.59   \n",
       "4  2021      Q2    Male       70+  70000~90000             22643   11~13.59   \n",
       "\n",
       "           category_name  month  day  dayofweek  customerid  \n",
       "0   Category Unsuspected      4    9          4  3005851110  \n",
       "1                 Bossam      4    8          3  3005350181  \n",
       "2           Chinese food      5    2          6  3022047223  \n",
       "3  an eclipse of the sun      4   20          1  3004021631  \n",
       "4           Chinese food      5    8          5  3022999138  "
      ],
      "text/html": "<div>\n<style scoped>\n    .dataframe tbody tr th:only-of-type {\n        vertical-align: middle;\n    }\n\n    .dataframe tbody tr th {\n        vertical-align: top;\n    }\n\n    .dataframe thead th {\n        text-align: right;\n    }\n</style>\n<table border=\"1\" class=\"dataframe\">\n  <thead>\n    <tr style=\"text-align: right;\">\n      <th></th>\n      <th>Year</th>\n      <th>Quarter</th>\n      <th>gender</th>\n      <th>age_group</th>\n      <th>amount_group</th>\n      <th>customer_zip_code</th>\n      <th>hour_range</th>\n      <th>category_name</th>\n      <th>month</th>\n      <th>day</th>\n      <th>dayofweek</th>\n      <th>customerid</th>\n    </tr>\n  </thead>\n  <tbody>\n    <tr>\n      <th>0</th>\n      <td>2021</td>\n      <td>Q2</td>\n      <td>Female</td>\n      <td>70+</td>\n      <td>90000~</td>\n      <td>22811</td>\n      <td>17~20.59</td>\n      <td>Category Unsuspected</td>\n      <td>4</td>\n      <td>9</td>\n      <td>4</td>\n      <td>3005851110</td>\n    </tr>\n    <tr>\n      <th>1</th>\n      <td>2021</td>\n      <td>Q2</td>\n      <td>Female</td>\n      <td>70+</td>\n      <td>70000~90000</td>\n      <td>22815</td>\n      <td>11~13.59</td>\n      <td>Bossam</td>\n      <td>4</td>\n      <td>8</td>\n      <td>3</td>\n      <td>3005350181</td>\n    </tr>\n    <tr>\n      <th>2</th>\n      <td>2021</td>\n      <td>Q2</td>\n      <td>Male</td>\n      <td>70+</td>\n      <td>70000~90000</td>\n      <td>22792</td>\n      <td>17~20.59</td>\n      <td>Chinese food</td>\n      <td>5</td>\n      <td>2</td>\n      <td>6</td>\n      <td>3022047223</td>\n    </tr>\n    <tr>\n      <th>3</th>\n      <td>2021</td>\n      <td>Q2</td>\n      <td>Male</td>\n      <td>70+</td>\n      <td>70000~90000</td>\n      <td>22740</td>\n      <td>17~20.59</td>\n      <td>an eclipse of the sun</td>\n      <td>4</td>\n      <td>20</td>\n      <td>1</td>\n      <td>3004021631</td>\n    </tr>\n    <tr>\n      <th>4</th>\n      <td>2021</td>\n      <td>Q2</td>\n      <td>Male</td>\n      <td>70+</td>\n      <td>70000~90000</td>\n      <td>22643</td>\n      <td>11~13.59</td>\n      <td>Chinese food</td>\n      <td>5</td>\n      <td>8</td>\n      <td>5</td>\n      <td>3022999138</td>\n    </tr>\n  </tbody>\n</table>\n</div>"
     },
     "metadata": {},
     "execution_count": 4
    }
   ],
   "source": [
    "# df = df.drop(['order_group', 'Count','customerid'], axis=1)\n",
    "df = df.drop(['order_group', 'Count'], axis=1)\n",
    "df.head()"
   ]
  },
  {
   "cell_type": "code",
   "execution_count": 5,
   "metadata": {},
   "outputs": [
    {
     "output_type": "execute_result",
     "data": {
      "text/plain": [
       "0           70+\n",
       "1           70+\n",
       "2           70+\n",
       "3           70+\n",
       "4           70+\n",
       "          ...  \n",
       "500833    20~24\n",
       "500834    20~24\n",
       "500835    20~24\n",
       "500836    20~24\n",
       "500837    14~19\n",
       "Name: age_group, Length: 500838, dtype: object"
      ]
     },
     "metadata": {},
     "execution_count": 5
    }
   ],
   "source": [
    "df['age_group']"
   ]
  },
  {
   "cell_type": "code",
   "execution_count": 6,
   "metadata": {},
   "outputs": [
    {
     "output_type": "execute_result",
     "data": {
      "text/plain": [
       "(500838, 12)"
      ]
     },
     "metadata": {},
     "execution_count": 6
    }
   ],
   "source": [
    "df.shape"
   ]
  },
  {
   "cell_type": "code",
   "execution_count": 7,
   "metadata": {},
   "outputs": [
    {
     "output_type": "execute_result",
     "data": {
      "text/plain": [
       "Year                 0\n",
       "Quarter              0\n",
       "gender               0\n",
       "age_group            0\n",
       "amount_group         0\n",
       "customer_zip_code    0\n",
       "hour_range           0\n",
       "category_name        0\n",
       "month                0\n",
       "day                  0\n",
       "dayofweek            0\n",
       "customerid           0\n",
       "dtype: int64"
      ]
     },
     "metadata": {},
     "execution_count": 7
    }
   ],
   "source": [
    "df.isnull().sum()"
   ]
  },
  {
   "cell_type": "code",
   "execution_count": 8,
   "metadata": {},
   "outputs": [
    {
     "output_type": "execute_result",
     "data": {
      "text/plain": [
       "<bound method NDFrame.describe of         Year Quarter  gender age_group amount_group customer_zip_code  \\\n",
       "0       2021      Q2  Female       70+       90000~             22811   \n",
       "1       2021      Q2  Female       70+  70000~90000             22815   \n",
       "2       2021      Q2    Male       70+  70000~90000             22792   \n",
       "3       2021      Q2    Male       70+  70000~90000             22740   \n",
       "4       2021      Q2    Male       70+  70000~90000             22643   \n",
       "...      ...     ...     ...       ...          ...               ...   \n",
       "500833  2020      Q1  Female     20~24  20000~30000             22858   \n",
       "500834  2020      Q1  Female     20~24  20000~30000             22714   \n",
       "500835  2020      Q1    Male     20~24  10000~20000             22800   \n",
       "500836  2020      Q1  Female     20~24  10000~20000             22700   \n",
       "500837  2020      Q1  Female     14~19  30000~35000             22760   \n",
       "\n",
       "       hour_range          category_name  month  day  dayofweek  customerid  \n",
       "0        17~20.59   Category Unsuspected      4    9          4  3005851110  \n",
       "1        11~13.59                 Bossam      4    8          3  3005350181  \n",
       "2        17~20.59           Chinese food      5    2          6  3022047223  \n",
       "3        17~20.59  an eclipse of the sun      4   20          1  3004021631  \n",
       "4        11~13.59           Chinese food      5    8          5  3022999138  \n",
       "...           ...                    ...    ...  ...        ...         ...  \n",
       "500833   21~23.59                chicken      3    6          4  3005041195  \n",
       "500834   11~13.59                chicken      2   22          5  3002289110  \n",
       "500835   17~20.59  an eclipse of the sun      3   17          1  3005022412  \n",
       "500836   21~23.59                chicken      3    2          0  3002033408  \n",
       "500837   17~20.59                 Bossam      3    2          0  3003225024  \n",
       "\n",
       "[500838 rows x 12 columns]>"
      ]
     },
     "metadata": {},
     "execution_count": 8
    }
   ],
   "source": [
    "df.describe"
   ]
  },
  {
   "cell_type": "code",
   "execution_count": 9,
   "metadata": {},
   "outputs": [
    {
     "output_type": "stream",
     "name": "stdout",
     "text": [
      "<class 'pandas.core.frame.DataFrame'>\nRangeIndex: 500838 entries, 0 to 500837\nData columns (total 12 columns):\n #   Column             Non-Null Count   Dtype \n---  ------             --------------   ----- \n 0   Year               500838 non-null  int64 \n 1   Quarter            500838 non-null  object\n 2   gender             500838 non-null  object\n 3   age_group          500838 non-null  object\n 4   amount_group       500838 non-null  object\n 5   customer_zip_code  500838 non-null  object\n 6   hour_range         500838 non-null  object\n 7   category_name      500838 non-null  object\n 8   month              500838 non-null  int64 \n 9   day                500838 non-null  int64 \n 10  dayofweek          500838 non-null  int64 \n 11  customerid         500838 non-null  int64 \ndtypes: int64(5), object(7)\nmemory usage: 45.9+ MB\n"
     ]
    }
   ],
   "source": [
    "df.info()"
   ]
  },
  {
   "cell_type": "code",
   "execution_count": 10,
   "metadata": {},
   "outputs": [
    {
     "output_type": "stream",
     "name": "stdout",
     "text": [
      "<class 'pandas.core.frame.DataFrame'>\nRangeIndex: 500838 entries, 0 to 500837\nData columns (total 12 columns):\n #   Column             Non-Null Count   Dtype \n---  ------             --------------   ----- \n 0   Year               500838 non-null  int64 \n 1   Quarter            500838 non-null  object\n 2   gender             500838 non-null  object\n 3   age_group          500838 non-null  object\n 4   amount_group       500838 non-null  object\n 5   customer_zip_code  500838 non-null  object\n 6   hour_range         500838 non-null  object\n 7   category_name      500838 non-null  object\n 8   month              500838 non-null  int64 \n 9   day                500838 non-null  int64 \n 10  dayofweek          500838 non-null  int64 \n 11  customerid         500838 non-null  int64 \ndtypes: int64(5), object(7)\nmemory usage: 45.9+ MB\n"
     ]
    }
   ],
   "source": [
    "# df['Quarter'] = df['Quarter'].astype(str)\n",
    "df['Quarter'] = df['Quarter'].replace('Q1', '1')\n",
    "df['Quarter'] = df['Quarter'].replace('Q2', '2')\n",
    "df['Quarter'] = df['Quarter'].replace('Q3', '3')\n",
    "df['Quarter'] = df['Quarter'].replace('Q4', '4')\n",
    "df.info()"
   ]
  },
  {
   "cell_type": "code",
   "execution_count": 11,
   "metadata": {},
   "outputs": [
    {
     "output_type": "execute_result",
     "data": {
      "text/plain": [
       "   Year Quarter  gender age_group amount_group customer_zip_code hour_range  \\\n",
       "0  2021       2  Female       70+       90000~             22811   17~20.59   \n",
       "1  2021       2  Female       70+  70000~90000             22815   11~13.59   \n",
       "2  2021       2    Male       70+  70000~90000             22792   17~20.59   \n",
       "3  2021       2    Male       70+  70000~90000             22740   17~20.59   \n",
       "4  2021       2    Male       70+  70000~90000             22643   11~13.59   \n",
       "\n",
       "           category_name  month  day  dayofweek  customerid  \n",
       "0   Category Unsuspected      4    9          4  3005851110  \n",
       "1                 Bossam      4    8          3  3005350181  \n",
       "2           Chinese food      5    2          6  3022047223  \n",
       "3  an eclipse of the sun      4   20          1  3004021631  \n",
       "4           Chinese food      5    8          5  3022999138  "
      ],
      "text/html": "<div>\n<style scoped>\n    .dataframe tbody tr th:only-of-type {\n        vertical-align: middle;\n    }\n\n    .dataframe tbody tr th {\n        vertical-align: top;\n    }\n\n    .dataframe thead th {\n        text-align: right;\n    }\n</style>\n<table border=\"1\" class=\"dataframe\">\n  <thead>\n    <tr style=\"text-align: right;\">\n      <th></th>\n      <th>Year</th>\n      <th>Quarter</th>\n      <th>gender</th>\n      <th>age_group</th>\n      <th>amount_group</th>\n      <th>customer_zip_code</th>\n      <th>hour_range</th>\n      <th>category_name</th>\n      <th>month</th>\n      <th>day</th>\n      <th>dayofweek</th>\n      <th>customerid</th>\n    </tr>\n  </thead>\n  <tbody>\n    <tr>\n      <th>0</th>\n      <td>2021</td>\n      <td>2</td>\n      <td>Female</td>\n      <td>70+</td>\n      <td>90000~</td>\n      <td>22811</td>\n      <td>17~20.59</td>\n      <td>Category Unsuspected</td>\n      <td>4</td>\n      <td>9</td>\n      <td>4</td>\n      <td>3005851110</td>\n    </tr>\n    <tr>\n      <th>1</th>\n      <td>2021</td>\n      <td>2</td>\n      <td>Female</td>\n      <td>70+</td>\n      <td>70000~90000</td>\n      <td>22815</td>\n      <td>11~13.59</td>\n      <td>Bossam</td>\n      <td>4</td>\n      <td>8</td>\n      <td>3</td>\n      <td>3005350181</td>\n    </tr>\n    <tr>\n      <th>2</th>\n      <td>2021</td>\n      <td>2</td>\n      <td>Male</td>\n      <td>70+</td>\n      <td>70000~90000</td>\n      <td>22792</td>\n      <td>17~20.59</td>\n      <td>Chinese food</td>\n      <td>5</td>\n      <td>2</td>\n      <td>6</td>\n      <td>3022047223</td>\n    </tr>\n    <tr>\n      <th>3</th>\n      <td>2021</td>\n      <td>2</td>\n      <td>Male</td>\n      <td>70+</td>\n      <td>70000~90000</td>\n      <td>22740</td>\n      <td>17~20.59</td>\n      <td>an eclipse of the sun</td>\n      <td>4</td>\n      <td>20</td>\n      <td>1</td>\n      <td>3004021631</td>\n    </tr>\n    <tr>\n      <th>4</th>\n      <td>2021</td>\n      <td>2</td>\n      <td>Male</td>\n      <td>70+</td>\n      <td>70000~90000</td>\n      <td>22643</td>\n      <td>11~13.59</td>\n      <td>Chinese food</td>\n      <td>5</td>\n      <td>8</td>\n      <td>5</td>\n      <td>3022999138</td>\n    </tr>\n  </tbody>\n</table>\n</div>"
     },
     "metadata": {},
     "execution_count": 11
    }
   ],
   "source": [
    "df.head()"
   ]
  },
  {
   "cell_type": "code",
   "execution_count": 12,
   "metadata": {},
   "outputs": [],
   "source": [
    "# df['gender'] = df['gender'].replace('Female', '0')\n",
    "# df['gender'] = df['gender'].replace('Male', '1')\n",
    "# df.head()\n"
   ]
  },
  {
   "cell_type": "code",
   "execution_count": 13,
   "metadata": {},
   "outputs": [
    {
     "output_type": "execute_result",
     "data": {
      "text/plain": [
       "   gender\n",
       "0  Female\n",
       "1  Female\n",
       "2    Male\n",
       "3    Male\n",
       "4    Male"
      ],
      "text/html": "<div>\n<style scoped>\n    .dataframe tbody tr th:only-of-type {\n        vertical-align: middle;\n    }\n\n    .dataframe tbody tr th {\n        vertical-align: top;\n    }\n\n    .dataframe thead th {\n        text-align: right;\n    }\n</style>\n<table border=\"1\" class=\"dataframe\">\n  <thead>\n    <tr style=\"text-align: right;\">\n      <th></th>\n      <th>gender</th>\n    </tr>\n  </thead>\n  <tbody>\n    <tr>\n      <th>0</th>\n      <td>Female</td>\n    </tr>\n    <tr>\n      <th>1</th>\n      <td>Female</td>\n    </tr>\n    <tr>\n      <th>2</th>\n      <td>Male</td>\n    </tr>\n    <tr>\n      <th>3</th>\n      <td>Male</td>\n    </tr>\n    <tr>\n      <th>4</th>\n      <td>Male</td>\n    </tr>\n  </tbody>\n</table>\n</div>"
     },
     "metadata": {},
     "execution_count": 13
    }
   ],
   "source": [
    "df2 = pd.DataFrame(df, columns =['gender'])\n",
    "df2.head()"
   ]
  },
  {
   "cell_type": "code",
   "execution_count": 14,
   "metadata": {},
   "outputs": [],
   "source": [
    "\n",
    "# df2 = pd.get_dummies(df2)\n",
    "# df2.head()\n",
    "# df['gender_Female'] = df2['gender_Female']\n",
    "# df['gender_Male'] = df2['gender_Male']\n",
    "# df = df.drop('gender', axis = 1)\n",
    "# df.head()"
   ]
  },
  {
   "cell_type": "code",
   "execution_count": 15,
   "metadata": {},
   "outputs": [
    {
     "output_type": "execute_result",
     "data": {
      "text/plain": [
       "   gender_Female  gender_Male\n",
       "0              1            0\n",
       "1              1            0\n",
       "2              0            1\n",
       "3              0            1\n",
       "4              0            1"
      ],
      "text/html": "<div>\n<style scoped>\n    .dataframe tbody tr th:only-of-type {\n        vertical-align: middle;\n    }\n\n    .dataframe tbody tr th {\n        vertical-align: top;\n    }\n\n    .dataframe thead th {\n        text-align: right;\n    }\n</style>\n<table border=\"1\" class=\"dataframe\">\n  <thead>\n    <tr style=\"text-align: right;\">\n      <th></th>\n      <th>gender_Female</th>\n      <th>gender_Male</th>\n    </tr>\n  </thead>\n  <tbody>\n    <tr>\n      <th>0</th>\n      <td>1</td>\n      <td>0</td>\n    </tr>\n    <tr>\n      <th>1</th>\n      <td>1</td>\n      <td>0</td>\n    </tr>\n    <tr>\n      <th>2</th>\n      <td>0</td>\n      <td>1</td>\n    </tr>\n    <tr>\n      <th>3</th>\n      <td>0</td>\n      <td>1</td>\n    </tr>\n    <tr>\n      <th>4</th>\n      <td>0</td>\n      <td>1</td>\n    </tr>\n  </tbody>\n</table>\n</div>"
     },
     "metadata": {},
     "execution_count": 15
    }
   ],
   "source": [
    "df2 = pd.get_dummies(df2)\n",
    "df2.head()\n"
   ]
  },
  {
   "cell_type": "code",
   "execution_count": 16,
   "metadata": {},
   "outputs": [
    {
     "output_type": "execute_result",
     "data": {
      "text/plain": [
       "        Year Quarter  gender age_group amount_group customer_zip_code  \\\n",
       "0       2021       2  Female       70+       90000~             22811   \n",
       "1       2021       2  Female       70+  70000~90000             22815   \n",
       "2       2021       2    Male       70+  70000~90000             22792   \n",
       "3       2021       2    Male       70+  70000~90000             22740   \n",
       "4       2021       2    Male       70+  70000~90000             22643   \n",
       "...      ...     ...     ...       ...          ...               ...   \n",
       "500833  2020       1  Female     20~24  20000~30000             22858   \n",
       "500834  2020       1  Female     20~24  20000~30000             22714   \n",
       "500835  2020       1    Male     20~24  10000~20000             22800   \n",
       "500836  2020       1  Female     20~24  10000~20000             22700   \n",
       "500837  2020       1  Female     14~19  30000~35000             22760   \n",
       "\n",
       "       hour_range          category_name  month  day  dayofweek  customerid  \n",
       "0        17~20.59   Category Unsuspected      4    9          4  3005851110  \n",
       "1        11~13.59                 Bossam      4    8          3  3005350181  \n",
       "2        17~20.59           Chinese food      5    2          6  3022047223  \n",
       "3        17~20.59  an eclipse of the sun      4   20          1  3004021631  \n",
       "4        11~13.59           Chinese food      5    8          5  3022999138  \n",
       "...           ...                    ...    ...  ...        ...         ...  \n",
       "500833   21~23.59                chicken      3    6          4  3005041195  \n",
       "500834   11~13.59                chicken      2   22          5  3002289110  \n",
       "500835   17~20.59  an eclipse of the sun      3   17          1  3005022412  \n",
       "500836   21~23.59                chicken      3    2          0  3002033408  \n",
       "500837   17~20.59                 Bossam      3    2          0  3003225024  \n",
       "\n",
       "[500838 rows x 12 columns]"
      ],
      "text/html": "<div>\n<style scoped>\n    .dataframe tbody tr th:only-of-type {\n        vertical-align: middle;\n    }\n\n    .dataframe tbody tr th {\n        vertical-align: top;\n    }\n\n    .dataframe thead th {\n        text-align: right;\n    }\n</style>\n<table border=\"1\" class=\"dataframe\">\n  <thead>\n    <tr style=\"text-align: right;\">\n      <th></th>\n      <th>Year</th>\n      <th>Quarter</th>\n      <th>gender</th>\n      <th>age_group</th>\n      <th>amount_group</th>\n      <th>customer_zip_code</th>\n      <th>hour_range</th>\n      <th>category_name</th>\n      <th>month</th>\n      <th>day</th>\n      <th>dayofweek</th>\n      <th>customerid</th>\n    </tr>\n  </thead>\n  <tbody>\n    <tr>\n      <th>0</th>\n      <td>2021</td>\n      <td>2</td>\n      <td>Female</td>\n      <td>70+</td>\n      <td>90000~</td>\n      <td>22811</td>\n      <td>17~20.59</td>\n      <td>Category Unsuspected</td>\n      <td>4</td>\n      <td>9</td>\n      <td>4</td>\n      <td>3005851110</td>\n    </tr>\n    <tr>\n      <th>1</th>\n      <td>2021</td>\n      <td>2</td>\n      <td>Female</td>\n      <td>70+</td>\n      <td>70000~90000</td>\n      <td>22815</td>\n      <td>11~13.59</td>\n      <td>Bossam</td>\n      <td>4</td>\n      <td>8</td>\n      <td>3</td>\n      <td>3005350181</td>\n    </tr>\n    <tr>\n      <th>2</th>\n      <td>2021</td>\n      <td>2</td>\n      <td>Male</td>\n      <td>70+</td>\n      <td>70000~90000</td>\n      <td>22792</td>\n      <td>17~20.59</td>\n      <td>Chinese food</td>\n      <td>5</td>\n      <td>2</td>\n      <td>6</td>\n      <td>3022047223</td>\n    </tr>\n    <tr>\n      <th>3</th>\n      <td>2021</td>\n      <td>2</td>\n      <td>Male</td>\n      <td>70+</td>\n      <td>70000~90000</td>\n      <td>22740</td>\n      <td>17~20.59</td>\n      <td>an eclipse of the sun</td>\n      <td>4</td>\n      <td>20</td>\n      <td>1</td>\n      <td>3004021631</td>\n    </tr>\n    <tr>\n      <th>4</th>\n      <td>2021</td>\n      <td>2</td>\n      <td>Male</td>\n      <td>70+</td>\n      <td>70000~90000</td>\n      <td>22643</td>\n      <td>11~13.59</td>\n      <td>Chinese food</td>\n      <td>5</td>\n      <td>8</td>\n      <td>5</td>\n      <td>3022999138</td>\n    </tr>\n    <tr>\n      <th>...</th>\n      <td>...</td>\n      <td>...</td>\n      <td>...</td>\n      <td>...</td>\n      <td>...</td>\n      <td>...</td>\n      <td>...</td>\n      <td>...</td>\n      <td>...</td>\n      <td>...</td>\n      <td>...</td>\n      <td>...</td>\n    </tr>\n    <tr>\n      <th>500833</th>\n      <td>2020</td>\n      <td>1</td>\n      <td>Female</td>\n      <td>20~24</td>\n      <td>20000~30000</td>\n      <td>22858</td>\n      <td>21~23.59</td>\n      <td>chicken</td>\n      <td>3</td>\n      <td>6</td>\n      <td>4</td>\n      <td>3005041195</td>\n    </tr>\n    <tr>\n      <th>500834</th>\n      <td>2020</td>\n      <td>1</td>\n      <td>Female</td>\n      <td>20~24</td>\n      <td>20000~30000</td>\n      <td>22714</td>\n      <td>11~13.59</td>\n      <td>chicken</td>\n      <td>2</td>\n      <td>22</td>\n      <td>5</td>\n      <td>3002289110</td>\n    </tr>\n    <tr>\n      <th>500835</th>\n      <td>2020</td>\n      <td>1</td>\n      <td>Male</td>\n      <td>20~24</td>\n      <td>10000~20000</td>\n      <td>22800</td>\n      <td>17~20.59</td>\n      <td>an eclipse of the sun</td>\n      <td>3</td>\n      <td>17</td>\n      <td>1</td>\n      <td>3005022412</td>\n    </tr>\n    <tr>\n      <th>500836</th>\n      <td>2020</td>\n      <td>1</td>\n      <td>Female</td>\n      <td>20~24</td>\n      <td>10000~20000</td>\n      <td>22700</td>\n      <td>21~23.59</td>\n      <td>chicken</td>\n      <td>3</td>\n      <td>2</td>\n      <td>0</td>\n      <td>3002033408</td>\n    </tr>\n    <tr>\n      <th>500837</th>\n      <td>2020</td>\n      <td>1</td>\n      <td>Female</td>\n      <td>14~19</td>\n      <td>30000~35000</td>\n      <td>22760</td>\n      <td>17~20.59</td>\n      <td>Bossam</td>\n      <td>3</td>\n      <td>2</td>\n      <td>0</td>\n      <td>3003225024</td>\n    </tr>\n  </tbody>\n</table>\n<p>500838 rows × 12 columns</p>\n</div>"
     },
     "metadata": {},
     "execution_count": 16
    }
   ],
   "source": [
    "df"
   ]
  },
  {
   "cell_type": "code",
   "execution_count": 17,
   "metadata": {},
   "outputs": [
    {
     "output_type": "execute_result",
     "data": {
      "text/plain": [
       "((500838, 12), (500838, 2))"
      ]
     },
     "metadata": {},
     "execution_count": 17
    }
   ],
   "source": [
    "df.shape, df2.shape"
   ]
  },
  {
   "cell_type": "code",
   "execution_count": 18,
   "metadata": {},
   "outputs": [],
   "source": [
    "df = pd.concat([df, df2], axis=1)\n"
   ]
  },
  {
   "cell_type": "code",
   "execution_count": 19,
   "metadata": {},
   "outputs": [
    {
     "output_type": "execute_result",
     "data": {
      "text/plain": [
       "        Year Quarter age_group amount_group customer_zip_code hour_range  \\\n",
       "0       2021       2       70+       90000~             22811   17~20.59   \n",
       "1       2021       2       70+  70000~90000             22815   11~13.59   \n",
       "2       2021       2       70+  70000~90000             22792   17~20.59   \n",
       "3       2021       2       70+  70000~90000             22740   17~20.59   \n",
       "4       2021       2       70+  70000~90000             22643   11~13.59   \n",
       "...      ...     ...       ...          ...               ...        ...   \n",
       "500833  2020       1     20~24  20000~30000             22858   21~23.59   \n",
       "500834  2020       1     20~24  20000~30000             22714   11~13.59   \n",
       "500835  2020       1     20~24  10000~20000             22800   17~20.59   \n",
       "500836  2020       1     20~24  10000~20000             22700   21~23.59   \n",
       "500837  2020       1     14~19  30000~35000             22760   17~20.59   \n",
       "\n",
       "                category_name  month  day  dayofweek  customerid  \\\n",
       "0        Category Unsuspected      4    9          4  3005851110   \n",
       "1                      Bossam      4    8          3  3005350181   \n",
       "2                Chinese food      5    2          6  3022047223   \n",
       "3       an eclipse of the sun      4   20          1  3004021631   \n",
       "4                Chinese food      5    8          5  3022999138   \n",
       "...                       ...    ...  ...        ...         ...   \n",
       "500833                chicken      3    6          4  3005041195   \n",
       "500834                chicken      2   22          5  3002289110   \n",
       "500835  an eclipse of the sun      3   17          1  3005022412   \n",
       "500836                chicken      3    2          0  3002033408   \n",
       "500837                 Bossam      3    2          0  3003225024   \n",
       "\n",
       "        gender_Female  gender_Male  \n",
       "0                   1            0  \n",
       "1                   1            0  \n",
       "2                   0            1  \n",
       "3                   0            1  \n",
       "4                   0            1  \n",
       "...               ...          ...  \n",
       "500833              1            0  \n",
       "500834              1            0  \n",
       "500835              0            1  \n",
       "500836              1            0  \n",
       "500837              1            0  \n",
       "\n",
       "[500838 rows x 13 columns]"
      ],
      "text/html": "<div>\n<style scoped>\n    .dataframe tbody tr th:only-of-type {\n        vertical-align: middle;\n    }\n\n    .dataframe tbody tr th {\n        vertical-align: top;\n    }\n\n    .dataframe thead th {\n        text-align: right;\n    }\n</style>\n<table border=\"1\" class=\"dataframe\">\n  <thead>\n    <tr style=\"text-align: right;\">\n      <th></th>\n      <th>Year</th>\n      <th>Quarter</th>\n      <th>age_group</th>\n      <th>amount_group</th>\n      <th>customer_zip_code</th>\n      <th>hour_range</th>\n      <th>category_name</th>\n      <th>month</th>\n      <th>day</th>\n      <th>dayofweek</th>\n      <th>customerid</th>\n      <th>gender_Female</th>\n      <th>gender_Male</th>\n    </tr>\n  </thead>\n  <tbody>\n    <tr>\n      <th>0</th>\n      <td>2021</td>\n      <td>2</td>\n      <td>70+</td>\n      <td>90000~</td>\n      <td>22811</td>\n      <td>17~20.59</td>\n      <td>Category Unsuspected</td>\n      <td>4</td>\n      <td>9</td>\n      <td>4</td>\n      <td>3005851110</td>\n      <td>1</td>\n      <td>0</td>\n    </tr>\n    <tr>\n      <th>1</th>\n      <td>2021</td>\n      <td>2</td>\n      <td>70+</td>\n      <td>70000~90000</td>\n      <td>22815</td>\n      <td>11~13.59</td>\n      <td>Bossam</td>\n      <td>4</td>\n      <td>8</td>\n      <td>3</td>\n      <td>3005350181</td>\n      <td>1</td>\n      <td>0</td>\n    </tr>\n    <tr>\n      <th>2</th>\n      <td>2021</td>\n      <td>2</td>\n      <td>70+</td>\n      <td>70000~90000</td>\n      <td>22792</td>\n      <td>17~20.59</td>\n      <td>Chinese food</td>\n      <td>5</td>\n      <td>2</td>\n      <td>6</td>\n      <td>3022047223</td>\n      <td>0</td>\n      <td>1</td>\n    </tr>\n    <tr>\n      <th>3</th>\n      <td>2021</td>\n      <td>2</td>\n      <td>70+</td>\n      <td>70000~90000</td>\n      <td>22740</td>\n      <td>17~20.59</td>\n      <td>an eclipse of the sun</td>\n      <td>4</td>\n      <td>20</td>\n      <td>1</td>\n      <td>3004021631</td>\n      <td>0</td>\n      <td>1</td>\n    </tr>\n    <tr>\n      <th>4</th>\n      <td>2021</td>\n      <td>2</td>\n      <td>70+</td>\n      <td>70000~90000</td>\n      <td>22643</td>\n      <td>11~13.59</td>\n      <td>Chinese food</td>\n      <td>5</td>\n      <td>8</td>\n      <td>5</td>\n      <td>3022999138</td>\n      <td>0</td>\n      <td>1</td>\n    </tr>\n    <tr>\n      <th>...</th>\n      <td>...</td>\n      <td>...</td>\n      <td>...</td>\n      <td>...</td>\n      <td>...</td>\n      <td>...</td>\n      <td>...</td>\n      <td>...</td>\n      <td>...</td>\n      <td>...</td>\n      <td>...</td>\n      <td>...</td>\n      <td>...</td>\n    </tr>\n    <tr>\n      <th>500833</th>\n      <td>2020</td>\n      <td>1</td>\n      <td>20~24</td>\n      <td>20000~30000</td>\n      <td>22858</td>\n      <td>21~23.59</td>\n      <td>chicken</td>\n      <td>3</td>\n      <td>6</td>\n      <td>4</td>\n      <td>3005041195</td>\n      <td>1</td>\n      <td>0</td>\n    </tr>\n    <tr>\n      <th>500834</th>\n      <td>2020</td>\n      <td>1</td>\n      <td>20~24</td>\n      <td>20000~30000</td>\n      <td>22714</td>\n      <td>11~13.59</td>\n      <td>chicken</td>\n      <td>2</td>\n      <td>22</td>\n      <td>5</td>\n      <td>3002289110</td>\n      <td>1</td>\n      <td>0</td>\n    </tr>\n    <tr>\n      <th>500835</th>\n      <td>2020</td>\n      <td>1</td>\n      <td>20~24</td>\n      <td>10000~20000</td>\n      <td>22800</td>\n      <td>17~20.59</td>\n      <td>an eclipse of the sun</td>\n      <td>3</td>\n      <td>17</td>\n      <td>1</td>\n      <td>3005022412</td>\n      <td>0</td>\n      <td>1</td>\n    </tr>\n    <tr>\n      <th>500836</th>\n      <td>2020</td>\n      <td>1</td>\n      <td>20~24</td>\n      <td>10000~20000</td>\n      <td>22700</td>\n      <td>21~23.59</td>\n      <td>chicken</td>\n      <td>3</td>\n      <td>2</td>\n      <td>0</td>\n      <td>3002033408</td>\n      <td>1</td>\n      <td>0</td>\n    </tr>\n    <tr>\n      <th>500837</th>\n      <td>2020</td>\n      <td>1</td>\n      <td>14~19</td>\n      <td>30000~35000</td>\n      <td>22760</td>\n      <td>17~20.59</td>\n      <td>Bossam</td>\n      <td>3</td>\n      <td>2</td>\n      <td>0</td>\n      <td>3003225024</td>\n      <td>1</td>\n      <td>0</td>\n    </tr>\n  </tbody>\n</table>\n<p>500838 rows × 13 columns</p>\n</div>"
     },
     "metadata": {},
     "execution_count": 19
    }
   ],
   "source": [
    "\n",
    "df = df.drop('gender', axis = 1)\n",
    "df"
   ]
  },
  {
   "cell_type": "code",
   "execution_count": 20,
   "metadata": {},
   "outputs": [
    {
     "output_type": "stream",
     "name": "stdout",
     "text": [
      "<class 'pandas.core.frame.DataFrame'>\nRangeIndex: 500838 entries, 0 to 500837\nData columns (total 13 columns):\n #   Column             Non-Null Count   Dtype \n---  ------             --------------   ----- \n 0   Year               500838 non-null  int64 \n 1   Quarter            500838 non-null  object\n 2   age_group          500838 non-null  object\n 3   amount_group       500838 non-null  object\n 4   customer_zip_code  500838 non-null  object\n 5   hour_range         500838 non-null  object\n 6   category_name      500838 non-null  object\n 7   month              500838 non-null  int64 \n 8   day                500838 non-null  int64 \n 9   dayofweek          500838 non-null  int64 \n 10  customerid         500838 non-null  int64 \n 11  gender_Female      500838 non-null  uint8 \n 12  gender_Male        500838 non-null  uint8 \ndtypes: int64(5), object(6), uint8(2)\nmemory usage: 43.0+ MB\n"
     ]
    }
   ],
   "source": [
    "df.info()"
   ]
  },
  {
   "cell_type": "code",
   "execution_count": 21,
   "metadata": {},
   "outputs": [
    {
     "output_type": "stream",
     "name": "stdout",
     "text": [
      "   Year Quarter amount_group customer_zip_code hour_range  \\\n",
      "0  2021       2       90000~             22811   17~20.59   \n",
      "1  2021       2  70000~90000             22815   11~13.59   \n",
      "2  2021       2  70000~90000             22792   17~20.59   \n",
      "3  2021       2  70000~90000             22740   17~20.59   \n",
      "4  2021       2  70000~90000             22643   11~13.59   \n",
      "\n",
      "           category_name  month  day  dayofweek  customerid  ...  \\\n",
      "0   Category Unsuspected      4    9          4  3005851110  ...   \n",
      "1                 Bossam      4    8          3  3005350181  ...   \n",
      "2           Chinese food      5    2          6  3022047223  ...   \n",
      "3  an eclipse of the sun      4   20          1  3004021631  ...   \n",
      "4           Chinese food      5    8          5  3022999138  ...   \n",
      "\n",
      "   age_group_25~29  age_group_30~34  age_group_35~39  age_group_40~44  \\\n",
      "0                0                0                0                0   \n",
      "1                0                0                0                0   \n",
      "2                0                0                0                0   \n",
      "3                0                0                0                0   \n",
      "4                0                0                0                0   \n",
      "\n",
      "   age_group_45~49  age_group_50~54  age_group_55~59  age_group_60~64  \\\n",
      "0                0                0                0                0   \n",
      "1                0                0                0                0   \n",
      "2                0                0                0                0   \n",
      "3                0                0                0                0   \n",
      "4                0                0                0                0   \n",
      "\n",
      "   age_group_65~69  age_group_70+  \n",
      "0                0              1  \n",
      "1                0              1  \n",
      "2                0              1  \n",
      "3                0              1  \n",
      "4                0              1  \n",
      "\n",
      "[5 rows x 24 columns]\n",
      "<class 'pandas.core.frame.DataFrame'>\n",
      "RangeIndex: 500838 entries, 0 to 500837\n",
      "Data columns (total 24 columns):\n",
      " #   Column             Non-Null Count   Dtype \n",
      "---  ------             --------------   ----- \n",
      " 0   Year               500838 non-null  int64 \n",
      " 1   Quarter            500838 non-null  object\n",
      " 2   amount_group       500838 non-null  object\n",
      " 3   customer_zip_code  500838 non-null  object\n",
      " 4   hour_range         500838 non-null  object\n",
      " 5   category_name      500838 non-null  object\n",
      " 6   month              500838 non-null  int64 \n",
      " 7   day                500838 non-null  int64 \n",
      " 8   dayofweek          500838 non-null  int64 \n",
      " 9   customerid         500838 non-null  int64 \n",
      " 10  gender_Female      500838 non-null  uint8 \n",
      " 11  gender_Male        500838 non-null  uint8 \n",
      " 12  age_group_14~19    500838 non-null  uint8 \n",
      " 13  age_group_20~24    500838 non-null  uint8 \n",
      " 14  age_group_25~29    500838 non-null  uint8 \n",
      " 15  age_group_30~34    500838 non-null  uint8 \n",
      " 16  age_group_35~39    500838 non-null  uint8 \n",
      " 17  age_group_40~44    500838 non-null  uint8 \n",
      " 18  age_group_45~49    500838 non-null  uint8 \n",
      " 19  age_group_50~54    500838 non-null  uint8 \n",
      " 20  age_group_55~59    500838 non-null  uint8 \n",
      " 21  age_group_60~64    500838 non-null  uint8 \n",
      " 22  age_group_65~69    500838 non-null  uint8 \n",
      " 23  age_group_70+      500838 non-null  uint8 \n",
      "dtypes: int64(5), object(5), uint8(14)\n",
      "memory usage: 44.9+ MB\n"
     ]
    }
   ],
   "source": [
    "df2 = pd.DataFrame(df, columns =['age_group'])\n",
    "df2 = pd.get_dummies(df2)\n",
    "df = pd.concat([df, df2], axis=1)\n",
    "df = df.drop('age_group', axis = 1)\n",
    "print(df.head())\n",
    "df.info()"
   ]
  },
  {
   "cell_type": "code",
   "execution_count": 22,
   "metadata": {},
   "outputs": [
    {
     "output_type": "stream",
     "name": "stdout",
     "text": [
      "   Year Quarter amount_group customer_zip_code          category_name  month  \\\n",
      "0  2021       2       90000~             22811   Category Unsuspected      4   \n",
      "1  2021       2  70000~90000             22815                 Bossam      4   \n",
      "2  2021       2  70000~90000             22792           Chinese food      5   \n",
      "3  2021       2  70000~90000             22740  an eclipse of the sun      4   \n",
      "4  2021       2  70000~90000             22643           Chinese food      5   \n",
      "\n",
      "   day  dayofweek  customerid  gender_Female  ...  age_group_60~64  \\\n",
      "0    9          4  3005851110              1  ...                0   \n",
      "1    8          3  3005350181              1  ...                0   \n",
      "2    2          6  3022047223              0  ...                0   \n",
      "3   20          1  3004021631              0  ...                0   \n",
      "4    8          5  3022999138              0  ...                0   \n",
      "\n",
      "   age_group_65~69  age_group_70+  hour_range_0~3.59  hour_range_11~13.59  \\\n",
      "0                0              1                  0                    0   \n",
      "1                0              1                  0                    1   \n",
      "2                0              1                  0                    0   \n",
      "3                0              1                  0                    0   \n",
      "4                0              1                  0                    1   \n",
      "\n",
      "   hour_range_14~16.59  hour_range_17~20.59  hour_range_21~23.59  \\\n",
      "0                    0                    1                    0   \n",
      "1                    0                    0                    0   \n",
      "2                    0                    1                    0   \n",
      "3                    0                    1                    0   \n",
      "4                    0                    0                    0   \n",
      "\n",
      "   hour_range_4~8.59  hour_range_9~10.59  \n",
      "0                  0                   0  \n",
      "1                  0                   0  \n",
      "2                  0                   0  \n",
      "3                  0                   0  \n",
      "4                  0                   0  \n",
      "\n",
      "[5 rows x 30 columns]\n",
      "<class 'pandas.core.frame.DataFrame'>\n",
      "RangeIndex: 500838 entries, 0 to 500837\n",
      "Data columns (total 30 columns):\n",
      " #   Column               Non-Null Count   Dtype \n",
      "---  ------               --------------   ----- \n",
      " 0   Year                 500838 non-null  int64 \n",
      " 1   Quarter              500838 non-null  object\n",
      " 2   amount_group         500838 non-null  object\n",
      " 3   customer_zip_code    500838 non-null  object\n",
      " 4   category_name        500838 non-null  object\n",
      " 5   month                500838 non-null  int64 \n",
      " 6   day                  500838 non-null  int64 \n",
      " 7   dayofweek            500838 non-null  int64 \n",
      " 8   customerid           500838 non-null  int64 \n",
      " 9   gender_Female        500838 non-null  uint8 \n",
      " 10  gender_Male          500838 non-null  uint8 \n",
      " 11  age_group_14~19      500838 non-null  uint8 \n",
      " 12  age_group_20~24      500838 non-null  uint8 \n",
      " 13  age_group_25~29      500838 non-null  uint8 \n",
      " 14  age_group_30~34      500838 non-null  uint8 \n",
      " 15  age_group_35~39      500838 non-null  uint8 \n",
      " 16  age_group_40~44      500838 non-null  uint8 \n",
      " 17  age_group_45~49      500838 non-null  uint8 \n",
      " 18  age_group_50~54      500838 non-null  uint8 \n",
      " 19  age_group_55~59      500838 non-null  uint8 \n",
      " 20  age_group_60~64      500838 non-null  uint8 \n",
      " 21  age_group_65~69      500838 non-null  uint8 \n",
      " 22  age_group_70+        500838 non-null  uint8 \n",
      " 23  hour_range_0~3.59    500838 non-null  uint8 \n",
      " 24  hour_range_11~13.59  500838 non-null  uint8 \n",
      " 25  hour_range_14~16.59  500838 non-null  uint8 \n",
      " 26  hour_range_17~20.59  500838 non-null  uint8 \n",
      " 27  hour_range_21~23.59  500838 non-null  uint8 \n",
      " 28  hour_range_4~8.59    500838 non-null  uint8 \n",
      " 29  hour_range_9~10.59   500838 non-null  uint8 \n",
      "dtypes: int64(5), object(4), uint8(21)\n",
      "memory usage: 44.4+ MB\n"
     ]
    }
   ],
   "source": [
    "df2 = pd.DataFrame(df, columns =['hour_range'])\n",
    "df2 = pd.get_dummies(df2)\n",
    "df = pd.concat([df, df2], axis=1)\n",
    "df = df.drop('hour_range', axis = 1)\n",
    "print(df.head())\n",
    "df.info()"
   ]
  },
  {
   "cell_type": "code",
   "execution_count": 23,
   "metadata": {},
   "outputs": [
    {
     "output_type": "stream",
     "name": "stdout",
     "text": [
      "   Year Quarter amount_group customer_zip_code  month  day  dayofweek  \\\n",
      "0  2021       2       90000~             22811      4    9          4   \n",
      "1  2021       2  70000~90000             22815      4    8          3   \n",
      "2  2021       2  70000~90000             22792      5    2          6   \n",
      "3  2021       2  70000~90000             22740      4   20          1   \n",
      "4  2021       2  70000~90000             22643      5    8          5   \n",
      "\n",
      "   customerid  gender_Female  gender_Male  ...  category_name_Chicken/Pizza  \\\n",
      "0  3005851110              1            0  ...                            0   \n",
      "1  3005350181              1            0  ...                            0   \n",
      "2  3022047223              0            1  ...                            0   \n",
      "3  3004021631              0            1  ...                            0   \n",
      "4  3022999138              0            1  ...                            0   \n",
      "\n",
      "   category_name_Chinese food  category_name_Fast food  \\\n",
      "0                           0                        0   \n",
      "1                           0                        0   \n",
      "2                           1                        0   \n",
      "3                           0                        0   \n",
      "4                           1                        0   \n",
      "\n",
      "   category_name_Korean cuisine  category_name_Midnight meal  \\\n",
      "0                             0                            0   \n",
      "1                             0                            0   \n",
      "2                             0                            0   \n",
      "3                             0                            0   \n",
      "4                             0                            0   \n",
      "\n",
      "   category_name_School food  category_name_an eclipse of the sun  \\\n",
      "0                          0                                    0   \n",
      "1                          0                                    0   \n",
      "2                          0                                    0   \n",
      "3                          0                                    1   \n",
      "4                          0                                    0   \n",
      "\n",
      "   category_name_chicken  category_name_lunchbox  \\\n",
      "0                      0                       0   \n",
      "1                      0                       0   \n",
      "2                      0                       0   \n",
      "3                      0                       0   \n",
      "4                      0                       0   \n",
      "\n",
      "   category_name_pork cutlet/sashimi/work  \n",
      "0                                       0  \n",
      "1                                       0  \n",
      "2                                       0  \n",
      "3                                       0  \n",
      "4                                       0  \n",
      "\n",
      "[5 rows x 46 columns]\n",
      "<class 'pandas.core.frame.DataFrame'>\n",
      "RangeIndex: 500838 entries, 0 to 500837\n",
      "Data columns (total 46 columns):\n",
      " #   Column                                  Non-Null Count   Dtype \n",
      "---  ------                                  --------------   ----- \n",
      " 0   Year                                    500838 non-null  int64 \n",
      " 1   Quarter                                 500838 non-null  object\n",
      " 2   amount_group                            500838 non-null  object\n",
      " 3   customer_zip_code                       500838 non-null  object\n",
      " 4   month                                   500838 non-null  int64 \n",
      " 5   day                                     500838 non-null  int64 \n",
      " 6   dayofweek                               500838 non-null  int64 \n",
      " 7   customerid                              500838 non-null  int64 \n",
      " 8   gender_Female                           500838 non-null  uint8 \n",
      " 9   gender_Male                             500838 non-null  uint8 \n",
      " 10  age_group_14~19                         500838 non-null  uint8 \n",
      " 11  age_group_20~24                         500838 non-null  uint8 \n",
      " 12  age_group_25~29                         500838 non-null  uint8 \n",
      " 13  age_group_30~34                         500838 non-null  uint8 \n",
      " 14  age_group_35~39                         500838 non-null  uint8 \n",
      " 15  age_group_40~44                         500838 non-null  uint8 \n",
      " 16  age_group_45~49                         500838 non-null  uint8 \n",
      " 17  age_group_50~54                         500838 non-null  uint8 \n",
      " 18  age_group_55~59                         500838 non-null  uint8 \n",
      " 19  age_group_60~64                         500838 non-null  uint8 \n",
      " 20  age_group_65~69                         500838 non-null  uint8 \n",
      " 21  age_group_70+                           500838 non-null  uint8 \n",
      " 22  hour_range_0~3.59                       500838 non-null  uint8 \n",
      " 23  hour_range_11~13.59                     500838 non-null  uint8 \n",
      " 24  hour_range_14~16.59                     500838 non-null  uint8 \n",
      " 25  hour_range_17~20.59                     500838 non-null  uint8 \n",
      " 26  hour_range_21~23.59                     500838 non-null  uint8 \n",
      " 27  hour_range_4~8.59                       500838 non-null  uint8 \n",
      " 28  hour_range_9~10.59                      500838 non-null  uint8 \n",
      " 29  category_name_Asia/Form                 500838 non-null  uint8 \n",
      " 30  category_name_Asian                     500838 non-null  uint8 \n",
      " 31  category_name_Bossam                    500838 non-null  uint8 \n",
      " 32  category_name_Bossam/Jokbal             500838 non-null  uint8 \n",
      " 33  category_name_Cafe                      500838 non-null  uint8 \n",
      " 34  category_name_Café/Dessert              500838 non-null  uint8 \n",
      " 35  category_name_Category Unsuspected      500838 non-null  uint8 \n",
      " 36  category_name_Chicken/Pizza             500838 non-null  uint8 \n",
      " 37  category_name_Chinese food              500838 non-null  uint8 \n",
      " 38  category_name_Fast food                 500838 non-null  uint8 \n",
      " 39  category_name_Korean cuisine            500838 non-null  uint8 \n",
      " 40  category_name_Midnight meal             500838 non-null  uint8 \n",
      " 41  category_name_School food               500838 non-null  uint8 \n",
      " 42  category_name_an eclipse of the sun     500838 non-null  uint8 \n",
      " 43  category_name_chicken                   500838 non-null  uint8 \n",
      " 44  category_name_lunchbox                  500838 non-null  uint8 \n",
      " 45  category_name_pork cutlet/sashimi/work  500838 non-null  uint8 \n",
      "dtypes: int64(5), object(3), uint8(38)\n",
      "memory usage: 48.7+ MB\n"
     ]
    }
   ],
   "source": [
    "df2 = pd.DataFrame(df, columns =['category_name'])\n",
    "df2 = pd.get_dummies(df2)\n",
    "df = pd.concat([df, df2], axis=1)\n",
    "df = df.drop('category_name', axis = 1)\n",
    "print(df.head())\n",
    "df.info()"
   ]
  },
  {
   "cell_type": "code",
   "execution_count": 24,
   "metadata": {},
   "outputs": [
    {
     "output_type": "stream",
     "name": "stdout",
     "text": [
      "   Year Quarter customer_zip_code  month  day  dayofweek  customerid  \\\n",
      "0  2021       2             22811      4    9          4  3005851110   \n",
      "1  2021       2             22815      4    8          3  3005350181   \n",
      "2  2021       2             22792      5    2          6  3022047223   \n",
      "3  2021       2             22740      4   20          1  3004021631   \n",
      "4  2021       2             22643      5    8          5  3022999138   \n",
      "\n",
      "   gender_Female  gender_Male  age_group_14~19  ...  category_name_lunchbox  \\\n",
      "0              1            0                0  ...                       0   \n",
      "1              1            0                0  ...                       0   \n",
      "2              0            1                0  ...                       0   \n",
      "3              0            1                0  ...                       0   \n",
      "4              0            1                0  ...                       0   \n",
      "\n",
      "   category_name_pork cutlet/sashimi/work  amount_group_10000~20000  \\\n",
      "0                                       0                         0   \n",
      "1                                       0                         0   \n",
      "2                                       0                         0   \n",
      "3                                       0                         0   \n",
      "4                                       0                         0   \n",
      "\n",
      "   amount_group_20000~30000  amount_group_30000~35000  \\\n",
      "0                         0                         0   \n",
      "1                         0                         0   \n",
      "2                         0                         0   \n",
      "3                         0                         0   \n",
      "4                         0                         0   \n",
      "\n",
      "   amount_group_35000~45000  amount_group_45000~50000  \\\n",
      "0                         0                         0   \n",
      "1                         0                         0   \n",
      "2                         0                         0   \n",
      "3                         0                         0   \n",
      "4                         0                         0   \n",
      "\n",
      "   amount_group_50000~70000  amount_group_70000~90000  amount_group_90000~  \n",
      "0                         0                         0                    1  \n",
      "1                         0                         1                    0  \n",
      "2                         0                         1                    0  \n",
      "3                         0                         1                    0  \n",
      "4                         0                         1                    0  \n",
      "\n",
      "[5 rows x 53 columns]\n",
      "<class 'pandas.core.frame.DataFrame'>\n",
      "RangeIndex: 500838 entries, 0 to 500837\n",
      "Data columns (total 53 columns):\n",
      " #   Column                                  Non-Null Count   Dtype \n",
      "---  ------                                  --------------   ----- \n",
      " 0   Year                                    500838 non-null  int64 \n",
      " 1   Quarter                                 500838 non-null  object\n",
      " 2   customer_zip_code                       500838 non-null  object\n",
      " 3   month                                   500838 non-null  int64 \n",
      " 4   day                                     500838 non-null  int64 \n",
      " 5   dayofweek                               500838 non-null  int64 \n",
      " 6   customerid                              500838 non-null  int64 \n",
      " 7   gender_Female                           500838 non-null  uint8 \n",
      " 8   gender_Male                             500838 non-null  uint8 \n",
      " 9   age_group_14~19                         500838 non-null  uint8 \n",
      " 10  age_group_20~24                         500838 non-null  uint8 \n",
      " 11  age_group_25~29                         500838 non-null  uint8 \n",
      " 12  age_group_30~34                         500838 non-null  uint8 \n",
      " 13  age_group_35~39                         500838 non-null  uint8 \n",
      " 14  age_group_40~44                         500838 non-null  uint8 \n",
      " 15  age_group_45~49                         500838 non-null  uint8 \n",
      " 16  age_group_50~54                         500838 non-null  uint8 \n",
      " 17  age_group_55~59                         500838 non-null  uint8 \n",
      " 18  age_group_60~64                         500838 non-null  uint8 \n",
      " 19  age_group_65~69                         500838 non-null  uint8 \n",
      " 20  age_group_70+                           500838 non-null  uint8 \n",
      " 21  hour_range_0~3.59                       500838 non-null  uint8 \n",
      " 22  hour_range_11~13.59                     500838 non-null  uint8 \n",
      " 23  hour_range_14~16.59                     500838 non-null  uint8 \n",
      " 24  hour_range_17~20.59                     500838 non-null  uint8 \n",
      " 25  hour_range_21~23.59                     500838 non-null  uint8 \n",
      " 26  hour_range_4~8.59                       500838 non-null  uint8 \n",
      " 27  hour_range_9~10.59                      500838 non-null  uint8 \n",
      " 28  category_name_Asia/Form                 500838 non-null  uint8 \n",
      " 29  category_name_Asian                     500838 non-null  uint8 \n",
      " 30  category_name_Bossam                    500838 non-null  uint8 \n",
      " 31  category_name_Bossam/Jokbal             500838 non-null  uint8 \n",
      " 32  category_name_Cafe                      500838 non-null  uint8 \n",
      " 33  category_name_Café/Dessert              500838 non-null  uint8 \n",
      " 34  category_name_Category Unsuspected      500838 non-null  uint8 \n",
      " 35  category_name_Chicken/Pizza             500838 non-null  uint8 \n",
      " 36  category_name_Chinese food              500838 non-null  uint8 \n",
      " 37  category_name_Fast food                 500838 non-null  uint8 \n",
      " 38  category_name_Korean cuisine            500838 non-null  uint8 \n",
      " 39  category_name_Midnight meal             500838 non-null  uint8 \n",
      " 40  category_name_School food               500838 non-null  uint8 \n",
      " 41  category_name_an eclipse of the sun     500838 non-null  uint8 \n",
      " 42  category_name_chicken                   500838 non-null  uint8 \n",
      " 43  category_name_lunchbox                  500838 non-null  uint8 \n",
      " 44  category_name_pork cutlet/sashimi/work  500838 non-null  uint8 \n",
      " 45  amount_group_10000~20000                500838 non-null  uint8 \n",
      " 46  amount_group_20000~30000                500838 non-null  uint8 \n",
      " 47  amount_group_30000~35000                500838 non-null  uint8 \n",
      " 48  amount_group_35000~45000                500838 non-null  uint8 \n",
      " 49  amount_group_45000~50000                500838 non-null  uint8 \n",
      " 50  amount_group_50000~70000                500838 non-null  uint8 \n",
      " 51  amount_group_70000~90000                500838 non-null  uint8 \n",
      " 52  amount_group_90000~                     500838 non-null  uint8 \n",
      "dtypes: int64(5), object(2), uint8(46)\n",
      "memory usage: 48.7+ MB\n"
     ]
    }
   ],
   "source": [
    "df2 = pd.DataFrame(df, columns =['amount_group'])\n",
    "df2 = pd.get_dummies(df2)\n",
    "df = pd.concat([df, df2], axis=1)\n",
    "df = df.drop('amount_group', axis = 1)\n",
    "print(df.head())\n",
    "df.info()"
   ]
  },
  {
   "cell_type": "code",
   "execution_count": 25,
   "metadata": {},
   "outputs": [],
   "source": [
    "df['Quarter'] = df['Quarter'].astype(int)\n"
   ]
  },
  {
   "cell_type": "code",
   "execution_count": 26,
   "metadata": {},
   "outputs": [
    {
     "output_type": "execute_result",
     "data": {
      "text/plain": [
       "(500838, 53)"
      ]
     },
     "metadata": {},
     "execution_count": 26
    }
   ],
   "source": [
    "df.shape"
   ]
  },
  {
   "cell_type": "code",
   "execution_count": 27,
   "metadata": {},
   "outputs": [],
   "source": [
    "# df['customer_zip_code'].isin(['-'])\r\n",
    "# df = df.drop(df[df['customer_zip_code']=='-'].index)"
   ]
  },
  {
   "cell_type": "code",
   "execution_count": 28,
   "metadata": {},
   "outputs": [
    {
     "output_type": "execute_result",
     "data": {
      "text/plain": [
       "Year                                      0\n",
       "Quarter                                   0\n",
       "customer_zip_code                         0\n",
       "month                                     0\n",
       "day                                       0\n",
       "dayofweek                                 0\n",
       "customerid                                0\n",
       "gender_Female                             0\n",
       "gender_Male                               0\n",
       "age_group_14~19                           0\n",
       "age_group_20~24                           0\n",
       "age_group_25~29                           0\n",
       "age_group_30~34                           0\n",
       "age_group_35~39                           0\n",
       "age_group_40~44                           0\n",
       "age_group_45~49                           0\n",
       "age_group_50~54                           0\n",
       "age_group_55~59                           0\n",
       "age_group_60~64                           0\n",
       "age_group_65~69                           0\n",
       "age_group_70+                             0\n",
       "hour_range_0~3.59                         0\n",
       "hour_range_11~13.59                       0\n",
       "hour_range_14~16.59                       0\n",
       "hour_range_17~20.59                       0\n",
       "hour_range_21~23.59                       0\n",
       "hour_range_4~8.59                         0\n",
       "hour_range_9~10.59                        0\n",
       "category_name_Asia/Form                   0\n",
       "category_name_Asian                       0\n",
       "category_name_Bossam                      0\n",
       "category_name_Bossam/Jokbal               0\n",
       "category_name_Cafe                        0\n",
       "category_name_Café/Dessert                0\n",
       "category_name_Category Unsuspected        0\n",
       "category_name_Chicken/Pizza               0\n",
       "category_name_Chinese food                0\n",
       "category_name_Fast food                   0\n",
       "category_name_Korean cuisine              0\n",
       "category_name_Midnight meal               0\n",
       "category_name_School food                 0\n",
       "category_name_an eclipse of the sun       0\n",
       "category_name_chicken                     0\n",
       "category_name_lunchbox                    0\n",
       "category_name_pork cutlet/sashimi/work    0\n",
       "amount_group_10000~20000                  0\n",
       "amount_group_20000~30000                  0\n",
       "amount_group_30000~35000                  0\n",
       "amount_group_35000~45000                  0\n",
       "amount_group_45000~50000                  0\n",
       "amount_group_50000~70000                  0\n",
       "amount_group_70000~90000                  0\n",
       "amount_group_90000~                       0\n",
       "dtype: int64"
      ]
     },
     "metadata": {},
     "execution_count": 28
    }
   ],
   "source": [
    "# df['customer_zip_code'] = df['customer_zip_code'].astype(int)\n",
    "df['customer_zip_code'] = df['customer_zip_code'].apply(pd.to_numeric, errors='coerce')\n",
    "# df['customer_zip_code'] = df['customer_zip_code'].astype(int)\n",
    "df = df.dropna()\n",
    "df['customer_zip_code'] = df['customer_zip_code'].astype(int)\n",
    "df.isnull().sum()"
   ]
  },
  {
   "cell_type": "code",
   "execution_count": 29,
   "metadata": {},
   "outputs": [
    {
     "output_type": "execute_result",
     "data": {
      "text/plain": [
       "(500687, 53)"
      ]
     },
     "metadata": {},
     "execution_count": 29
    }
   ],
   "source": [
    "df.shape"
   ]
  },
  {
   "cell_type": "code",
   "execution_count": 30,
   "metadata": {},
   "outputs": [
    {
     "output_type": "stream",
     "name": "stdout",
     "text": [
      "<class 'pandas.core.frame.DataFrame'>\nInt64Index: 500687 entries, 0 to 500837\nData columns (total 53 columns):\n #   Column                                  Non-Null Count   Dtype\n---  ------                                  --------------   -----\n 0   Year                                    500687 non-null  int64\n 1   Quarter                                 500687 non-null  int32\n 2   customer_zip_code                       500687 non-null  int32\n 3   month                                   500687 non-null  int64\n 4   day                                     500687 non-null  int64\n 5   dayofweek                               500687 non-null  int64\n 6   customerid                              500687 non-null  int64\n 7   gender_Female                           500687 non-null  uint8\n 8   gender_Male                             500687 non-null  uint8\n 9   age_group_14~19                         500687 non-null  uint8\n 10  age_group_20~24                         500687 non-null  uint8\n 11  age_group_25~29                         500687 non-null  uint8\n 12  age_group_30~34                         500687 non-null  uint8\n 13  age_group_35~39                         500687 non-null  uint8\n 14  age_group_40~44                         500687 non-null  uint8\n 15  age_group_45~49                         500687 non-null  uint8\n 16  age_group_50~54                         500687 non-null  uint8\n 17  age_group_55~59                         500687 non-null  uint8\n 18  age_group_60~64                         500687 non-null  uint8\n 19  age_group_65~69                         500687 non-null  uint8\n 20  age_group_70+                           500687 non-null  uint8\n 21  hour_range_0~3.59                       500687 non-null  uint8\n 22  hour_range_11~13.59                     500687 non-null  uint8\n 23  hour_range_14~16.59                     500687 non-null  uint8\n 24  hour_range_17~20.59                     500687 non-null  uint8\n 25  hour_range_21~23.59                     500687 non-null  uint8\n 26  hour_range_4~8.59                       500687 non-null  uint8\n 27  hour_range_9~10.59                      500687 non-null  uint8\n 28  category_name_Asia/Form                 500687 non-null  uint8\n 29  category_name_Asian                     500687 non-null  uint8\n 30  category_name_Bossam                    500687 non-null  uint8\n 31  category_name_Bossam/Jokbal             500687 non-null  uint8\n 32  category_name_Cafe                      500687 non-null  uint8\n 33  category_name_Café/Dessert              500687 non-null  uint8\n 34  category_name_Category Unsuspected      500687 non-null  uint8\n 35  category_name_Chicken/Pizza             500687 non-null  uint8\n 36  category_name_Chinese food              500687 non-null  uint8\n 37  category_name_Fast food                 500687 non-null  uint8\n 38  category_name_Korean cuisine            500687 non-null  uint8\n 39  category_name_Midnight meal             500687 non-null  uint8\n 40  category_name_School food               500687 non-null  uint8\n 41  category_name_an eclipse of the sun     500687 non-null  uint8\n 42  category_name_chicken                   500687 non-null  uint8\n 43  category_name_lunchbox                  500687 non-null  uint8\n 44  category_name_pork cutlet/sashimi/work  500687 non-null  uint8\n 45  amount_group_10000~20000                500687 non-null  uint8\n 46  amount_group_20000~30000                500687 non-null  uint8\n 47  amount_group_30000~35000                500687 non-null  uint8\n 48  amount_group_35000~45000                500687 non-null  uint8\n 49  amount_group_45000~50000                500687 non-null  uint8\n 50  amount_group_50000~70000                500687 non-null  uint8\n 51  amount_group_70000~90000                500687 non-null  uint8\n 52  amount_group_90000~                     500687 non-null  uint8\ndtypes: int32(2), int64(5), uint8(46)\nmemory usage: 48.7 MB\n"
     ]
    }
   ],
   "source": [
    "df.info()"
   ]
  },
  {
   "cell_type": "code",
   "execution_count": 31,
   "metadata": {},
   "outputs": [
    {
     "output_type": "execute_result",
     "data": {
      "text/plain": [
       "(500687, 53)"
      ]
     },
     "metadata": {},
     "execution_count": 31
    }
   ],
   "source": [
    "X = df.values\n",
    "X.shape"
   ]
  },
  {
   "cell_type": "code",
   "execution_count": 32,
   "metadata": {},
   "outputs": [],
   "source": [
    "from sklearn.preprocessing import StandardScaler\n",
    "\n",
    "X = StandardScaler().fit_transform(X)"
   ]
  },
  {
   "cell_type": "code",
   "execution_count": 33,
   "metadata": {},
   "outputs": [
    {
     "output_type": "execute_result",
     "data": {
      "text/plain": [
       "{0, 1, 2, 3, 4, 5, 6, 7, 8, 9}"
      ]
     },
     "metadata": {},
     "execution_count": 33
    }
   ],
   "source": [
    "from sklearn.cluster import KMeans\n",
    "\n",
    "num_clusters = 10\n",
    "\n",
    "k_means = KMeans(n_clusters = num_clusters)\n",
    "k_means.fit(X)\n",
    "labels = k_means.labels_\n",
    "\n",
    "set(labels)"
   ]
  },
  {
   "cell_type": "code",
   "execution_count": 34,
   "metadata": {},
   "outputs": [
    {
     "output_type": "execute_result",
     "data": {
      "text/plain": [
       "   Year  Quarter  customer_zip_code  month  day  dayofweek  customerid  \\\n",
       "0  2021        2              22811      4    9          4  3005851110   \n",
       "1  2021        2              22815      4    8          3  3005350181   \n",
       "2  2021        2              22792      5    2          6  3022047223   \n",
       "3  2021        2              22740      4   20          1  3004021631   \n",
       "4  2021        2              22643      5    8          5  3022999138   \n",
       "\n",
       "   gender_Female  gender_Male  age_group_14~19  ...  \\\n",
       "0              1            0                0  ...   \n",
       "1              1            0                0  ...   \n",
       "2              0            1                0  ...   \n",
       "3              0            1                0  ...   \n",
       "4              0            1                0  ...   \n",
       "\n",
       "   category_name_pork cutlet/sashimi/work  amount_group_10000~20000  \\\n",
       "0                                       0                         0   \n",
       "1                                       0                         0   \n",
       "2                                       0                         0   \n",
       "3                                       0                         0   \n",
       "4                                       0                         0   \n",
       "\n",
       "   amount_group_20000~30000  amount_group_30000~35000  \\\n",
       "0                         0                         0   \n",
       "1                         0                         0   \n",
       "2                         0                         0   \n",
       "3                         0                         0   \n",
       "4                         0                         0   \n",
       "\n",
       "   amount_group_35000~45000  amount_group_45000~50000  \\\n",
       "0                         0                         0   \n",
       "1                         0                         0   \n",
       "2                         0                         0   \n",
       "3                         0                         0   \n",
       "4                         0                         0   \n",
       "\n",
       "   amount_group_50000~70000  amount_group_70000~90000  amount_group_90000~  \\\n",
       "0                         0                         0                    1   \n",
       "1                         0                         1                    0   \n",
       "2                         0                         1                    0   \n",
       "3                         0                         1                    0   \n",
       "4                         0                         1                    0   \n",
       "\n",
       "   Labels  \n",
       "0       9  \n",
       "1       5  \n",
       "2       8  \n",
       "3       7  \n",
       "4       8  \n",
       "\n",
       "[5 rows x 54 columns]"
      ],
      "text/html": "<div>\n<style scoped>\n    .dataframe tbody tr th:only-of-type {\n        vertical-align: middle;\n    }\n\n    .dataframe tbody tr th {\n        vertical-align: top;\n    }\n\n    .dataframe thead th {\n        text-align: right;\n    }\n</style>\n<table border=\"1\" class=\"dataframe\">\n  <thead>\n    <tr style=\"text-align: right;\">\n      <th></th>\n      <th>Year</th>\n      <th>Quarter</th>\n      <th>customer_zip_code</th>\n      <th>month</th>\n      <th>day</th>\n      <th>dayofweek</th>\n      <th>customerid</th>\n      <th>gender_Female</th>\n      <th>gender_Male</th>\n      <th>age_group_14~19</th>\n      <th>...</th>\n      <th>category_name_pork cutlet/sashimi/work</th>\n      <th>amount_group_10000~20000</th>\n      <th>amount_group_20000~30000</th>\n      <th>amount_group_30000~35000</th>\n      <th>amount_group_35000~45000</th>\n      <th>amount_group_45000~50000</th>\n      <th>amount_group_50000~70000</th>\n      <th>amount_group_70000~90000</th>\n      <th>amount_group_90000~</th>\n      <th>Labels</th>\n    </tr>\n  </thead>\n  <tbody>\n    <tr>\n      <th>0</th>\n      <td>2021</td>\n      <td>2</td>\n      <td>22811</td>\n      <td>4</td>\n      <td>9</td>\n      <td>4</td>\n      <td>3005851110</td>\n      <td>1</td>\n      <td>0</td>\n      <td>0</td>\n      <td>...</td>\n      <td>0</td>\n      <td>0</td>\n      <td>0</td>\n      <td>0</td>\n      <td>0</td>\n      <td>0</td>\n      <td>0</td>\n      <td>0</td>\n      <td>1</td>\n      <td>9</td>\n    </tr>\n    <tr>\n      <th>1</th>\n      <td>2021</td>\n      <td>2</td>\n      <td>22815</td>\n      <td>4</td>\n      <td>8</td>\n      <td>3</td>\n      <td>3005350181</td>\n      <td>1</td>\n      <td>0</td>\n      <td>0</td>\n      <td>...</td>\n      <td>0</td>\n      <td>0</td>\n      <td>0</td>\n      <td>0</td>\n      <td>0</td>\n      <td>0</td>\n      <td>0</td>\n      <td>1</td>\n      <td>0</td>\n      <td>5</td>\n    </tr>\n    <tr>\n      <th>2</th>\n      <td>2021</td>\n      <td>2</td>\n      <td>22792</td>\n      <td>5</td>\n      <td>2</td>\n      <td>6</td>\n      <td>3022047223</td>\n      <td>0</td>\n      <td>1</td>\n      <td>0</td>\n      <td>...</td>\n      <td>0</td>\n      <td>0</td>\n      <td>0</td>\n      <td>0</td>\n      <td>0</td>\n      <td>0</td>\n      <td>0</td>\n      <td>1</td>\n      <td>0</td>\n      <td>8</td>\n    </tr>\n    <tr>\n      <th>3</th>\n      <td>2021</td>\n      <td>2</td>\n      <td>22740</td>\n      <td>4</td>\n      <td>20</td>\n      <td>1</td>\n      <td>3004021631</td>\n      <td>0</td>\n      <td>1</td>\n      <td>0</td>\n      <td>...</td>\n      <td>0</td>\n      <td>0</td>\n      <td>0</td>\n      <td>0</td>\n      <td>0</td>\n      <td>0</td>\n      <td>0</td>\n      <td>1</td>\n      <td>0</td>\n      <td>7</td>\n    </tr>\n    <tr>\n      <th>4</th>\n      <td>2021</td>\n      <td>2</td>\n      <td>22643</td>\n      <td>5</td>\n      <td>8</td>\n      <td>5</td>\n      <td>3022999138</td>\n      <td>0</td>\n      <td>1</td>\n      <td>0</td>\n      <td>...</td>\n      <td>0</td>\n      <td>0</td>\n      <td>0</td>\n      <td>0</td>\n      <td>0</td>\n      <td>0</td>\n      <td>0</td>\n      <td>1</td>\n      <td>0</td>\n      <td>8</td>\n    </tr>\n  </tbody>\n</table>\n<p>5 rows × 54 columns</p>\n</div>"
     },
     "metadata": {},
     "execution_count": 34
    }
   ],
   "source": [
    "df[\"Labels\"] = labels.astype(int)\n",
    "df.head(5)"
   ]
  },
  {
   "cell_type": "code",
   "execution_count": 35,
   "metadata": {},
   "outputs": [
    {
     "output_type": "stream",
     "name": "stdout",
     "text": [
      "<class 'pandas.core.frame.DataFrame'>\nInt64Index: 500687 entries, 0 to 500837\nData columns (total 54 columns):\n #   Column                                  Non-Null Count   Dtype\n---  ------                                  --------------   -----\n 0   Year                                    500687 non-null  int64\n 1   Quarter                                 500687 non-null  int32\n 2   customer_zip_code                       500687 non-null  int32\n 3   month                                   500687 non-null  int64\n 4   day                                     500687 non-null  int64\n 5   dayofweek                               500687 non-null  int64\n 6   customerid                              500687 non-null  int64\n 7   gender_Female                           500687 non-null  uint8\n 8   gender_Male                             500687 non-null  uint8\n 9   age_group_14~19                         500687 non-null  uint8\n 10  age_group_20~24                         500687 non-null  uint8\n 11  age_group_25~29                         500687 non-null  uint8\n 12  age_group_30~34                         500687 non-null  uint8\n 13  age_group_35~39                         500687 non-null  uint8\n 14  age_group_40~44                         500687 non-null  uint8\n 15  age_group_45~49                         500687 non-null  uint8\n 16  age_group_50~54                         500687 non-null  uint8\n 17  age_group_55~59                         500687 non-null  uint8\n 18  age_group_60~64                         500687 non-null  uint8\n 19  age_group_65~69                         500687 non-null  uint8\n 20  age_group_70+                           500687 non-null  uint8\n 21  hour_range_0~3.59                       500687 non-null  uint8\n 22  hour_range_11~13.59                     500687 non-null  uint8\n 23  hour_range_14~16.59                     500687 non-null  uint8\n 24  hour_range_17~20.59                     500687 non-null  uint8\n 25  hour_range_21~23.59                     500687 non-null  uint8\n 26  hour_range_4~8.59                       500687 non-null  uint8\n 27  hour_range_9~10.59                      500687 non-null  uint8\n 28  category_name_Asia/Form                 500687 non-null  uint8\n 29  category_name_Asian                     500687 non-null  uint8\n 30  category_name_Bossam                    500687 non-null  uint8\n 31  category_name_Bossam/Jokbal             500687 non-null  uint8\n 32  category_name_Cafe                      500687 non-null  uint8\n 33  category_name_Café/Dessert              500687 non-null  uint8\n 34  category_name_Category Unsuspected      500687 non-null  uint8\n 35  category_name_Chicken/Pizza             500687 non-null  uint8\n 36  category_name_Chinese food              500687 non-null  uint8\n 37  category_name_Fast food                 500687 non-null  uint8\n 38  category_name_Korean cuisine            500687 non-null  uint8\n 39  category_name_Midnight meal             500687 non-null  uint8\n 40  category_name_School food               500687 non-null  uint8\n 41  category_name_an eclipse of the sun     500687 non-null  uint8\n 42  category_name_chicken                   500687 non-null  uint8\n 43  category_name_lunchbox                  500687 non-null  uint8\n 44  category_name_pork cutlet/sashimi/work  500687 non-null  uint8\n 45  amount_group_10000~20000                500687 non-null  uint8\n 46  amount_group_20000~30000                500687 non-null  uint8\n 47  amount_group_30000~35000                500687 non-null  uint8\n 48  amount_group_35000~45000                500687 non-null  uint8\n 49  amount_group_45000~50000                500687 non-null  uint8\n 50  amount_group_50000~70000                500687 non-null  uint8\n 51  amount_group_70000~90000                500687 non-null  uint8\n 52  amount_group_90000~                     500687 non-null  uint8\n 53  Labels                                  500687 non-null  int32\ndtypes: int32(3), int64(5), uint8(46)\nmemory usage: 50.6 MB\n"
     ]
    }
   ],
   "source": [
    "df.info()"
   ]
  },
  {
   "cell_type": "code",
   "execution_count": 36,
   "metadata": {},
   "outputs": [],
   "source": [
    "# df_org['customerid'] = df_org['customerid'].astype('uint64')"
   ]
  },
  {
   "cell_type": "code",
   "execution_count": 37,
   "metadata": {},
   "outputs": [
    {
     "output_type": "stream",
     "name": "stdout",
     "text": [
      "<class 'pandas.core.frame.DataFrame'>\n",
      "Int64Index: 500687 entries, 0 to 500837\n",
      "Data columns (total 54 columns):\n",
      " #   Column                                  Non-Null Count   Dtype\n",
      "---  ------                                  --------------   -----\n",
      " 0   Year                                    500687 non-null  int64\n",
      " 1   Quarter                                 500687 non-null  int32\n",
      " 2   customer_zip_code                       500687 non-null  int32\n",
      " 3   month                                   500687 non-null  int64\n",
      " 4   day                                     500687 non-null  int64\n",
      " 5   dayofweek                               500687 non-null  int64\n",
      " 6   customerid                              500687 non-null  int64\n",
      " 7   gender_Female                           500687 non-null  uint8\n",
      " 8   gender_Male                             500687 non-null  uint8\n",
      " 9   age_group_14~19                         500687 non-null  uint8\n",
      " 10  age_group_20~24                         500687 non-null  uint8\n",
      " 11  age_group_25~29                         500687 non-null  uint8\n",
      " 12  age_group_30~34                         500687 non-null  uint8\n",
      " 13  age_group_35~39                         500687 non-null  uint8\n",
      " 14  age_group_40~44                         500687 non-null  uint8\n",
      " 15  age_group_45~49                         500687 non-null  uint8\n",
      " 16  age_group_50~54                         500687 non-null  uint8\n",
      " 17  age_group_55~59                         500687 non-null  uint8\n",
      " 18  age_group_60~64                         500687 non-null  uint8\n",
      " 19  age_group_65~69                         500687 non-null  uint8\n",
      " 20  age_group_70+                           500687 non-null  uint8\n",
      " 21  hour_range_0~3.59                       500687 non-null  uint8\n",
      " 22  hour_range_11~13.59                     500687 non-null  uint8\n",
      " 23  hour_range_14~16.59                     500687 non-null  uint8\n",
      " 24  hour_range_17~20.59                     500687 non-null  uint8\n",
      " 25  hour_range_21~23.59                     500687 non-null  uint8\n",
      " 26  hour_range_4~8.59                       500687 non-null  uint8\n",
      " 27  hour_range_9~10.59                      500687 non-null  uint8\n",
      " 28  category_name_Asia/Form                 500687 non-null  uint8\n",
      " 29  category_name_Asian                     500687 non-null  uint8\n",
      " 30  category_name_Bossam                    500687 non-null  uint8\n",
      " 31  category_name_Bossam/Jokbal             500687 non-null  uint8\n",
      " 32  category_name_Cafe                      500687 non-null  uint8\n",
      " 33  category_name_Café/Dessert              500687 non-null  uint8\n",
      " 34  category_name_Category Unsuspected      500687 non-null  uint8\n",
      " 35  category_name_Chicken/Pizza             500687 non-null  uint8\n",
      " 36  category_name_Chinese food              500687 non-null  uint8\n",
      " 37  category_name_Fast food                 500687 non-null  uint8\n",
      " 38  category_name_Korean cuisine            500687 non-null  uint8\n",
      " 39  category_name_Midnight meal             500687 non-null  uint8\n",
      " 40  category_name_School food               500687 non-null  uint8\n",
      " 41  category_name_an eclipse of the sun     500687 non-null  uint8\n",
      " 42  category_name_chicken                   500687 non-null  uint8\n",
      " 43  category_name_lunchbox                  500687 non-null  uint8\n",
      " 44  category_name_pork cutlet/sashimi/work  500687 non-null  uint8\n",
      " 45  amount_group_10000~20000                500687 non-null  uint8\n",
      " 46  amount_group_20000~30000                500687 non-null  uint8\n",
      " 47  amount_group_30000~35000                500687 non-null  uint8\n",
      " 48  amount_group_35000~45000                500687 non-null  uint8\n",
      " 49  amount_group_45000~50000                500687 non-null  uint8\n",
      " 50  amount_group_50000~70000                500687 non-null  uint8\n",
      " 51  amount_group_70000~90000                500687 non-null  uint8\n",
      " 52  amount_group_90000~                     500687 non-null  uint8\n",
      " 53  Labels                                  500687 non-null  int32\n",
      "dtypes: int32(3), int64(5), uint8(46)\n",
      "memory usage: 50.6 MB\n",
      "None\n",
      "<class 'pandas.core.frame.DataFrame'>\n",
      "RangeIndex: 500838 entries, 0 to 500837\n",
      "Data columns (total 14 columns):\n",
      " #   Column             Non-Null Count   Dtype \n",
      "---  ------             --------------   ----- \n",
      " 0   Year               500838 non-null  int64 \n",
      " 1   Quarter            500838 non-null  object\n",
      " 2   gender             500838 non-null  object\n",
      " 3   age_group          500838 non-null  object\n",
      " 4   amount_group       500838 non-null  object\n",
      " 5   customer_zip_code  500838 non-null  object\n",
      " 6   hour_range         500838 non-null  object\n",
      " 7   category_name      500838 non-null  object\n",
      " 8   month              500838 non-null  int64 \n",
      " 9   day                500838 non-null  int64 \n",
      " 10  dayofweek          500838 non-null  int64 \n",
      " 11  customerid         500838 non-null  int64 \n",
      " 12  Count              500838 non-null  int64 \n",
      " 13  order_group        500838 non-null  object\n",
      "dtypes: int64(6), object(8)\n",
      "memory usage: 53.5+ MB\n",
      "None\n"
     ]
    }
   ],
   "source": [
    "print(df.info())\n",
    "print(df_org.info())"
   ]
  },
  {
   "cell_type": "code",
   "execution_count": 38,
   "metadata": {},
   "outputs": [
    {
     "output_type": "stream",
     "name": "stdout",
     "text": [
      "   Year  Quarter  customer_zip_code  month  day  dayofweek  customerid  \\\n0  2021        2              22811      4    9          4  3005851110   \n1  2021        2              22815      4    8          3  3005350181   \n2  2021        2              22792      5    2          6  3022047223   \n3  2021        2              22740      4   20          1  3004021631   \n4  2021        2              22643      5    8          5  3022999138   \n\n   gender_Female  gender_Male  age_group_14~19  ...  \\\n0              1            0                0  ...   \n1              1            0                0  ...   \n2              0            1                0  ...   \n3              0            1                0  ...   \n4              0            1                0  ...   \n\n   category_name_pork cutlet/sashimi/work  amount_group_10000~20000  \\\n0                                       0                         0   \n1                                       0                         0   \n2                                       0                         0   \n3                                       0                         0   \n4                                       0                         0   \n\n   amount_group_20000~30000  amount_group_30000~35000  \\\n0                         0                         0   \n1                         0                         0   \n2                         0                         0   \n3                         0                         0   \n4                         0                         0   \n\n   amount_group_35000~45000  amount_group_45000~50000  \\\n0                         0                         0   \n1                         0                         0   \n2                         0                         0   \n3                         0                         0   \n4                         0                         0   \n\n   amount_group_50000~70000  amount_group_70000~90000  amount_group_90000~  \\\n0                         0                         0                    1   \n1                         0                         1                    0   \n2                         0                         1                    0   \n3                         0                         1                    0   \n4                         0                         1                    0   \n\n   Labels  \n0       9  \n1       5  \n2       8  \n3       7  \n4       8  \n\n[5 rows x 54 columns]\n   Year Quarter  gender age_group amount_group customer_zip_code hour_range  \\\n0  2021      Q2  Female       70+       90000~             22811   17~20.59   \n1  2021      Q2  Female       70+  70000~90000             22815   11~13.59   \n2  2021      Q2    Male       70+  70000~90000             22792   17~20.59   \n3  2021      Q2    Male       70+  70000~90000             22740   17~20.59   \n4  2021      Q2    Male       70+  70000~90000             22643   11~13.59   \n\n           category_name  month  day  dayofweek  customerid  Count order_group  \n0   Category Unsuspected      4    9          4  3005851110      1         1~3  \n1                 Bossam      4    8          3  3005350181      1         1~3  \n2           Chinese food      5    2          6  3022047223      1         1~3  \n3  an eclipse of the sun      4   20          1  3004021631      1         1~3  \n4           Chinese food      5    8          5  3022999138      1         1~3  \n"
     ]
    }
   ],
   "source": [
    "print(df.head())\n",
    "print(df_org.head())"
   ]
  },
  {
   "cell_type": "code",
   "execution_count": 39,
   "metadata": {},
   "outputs": [],
   "source": [
    "df_m = pd.merge(df_org, df, how='left', on='customerid', indicator=True)"
   ]
  },
  {
   "cell_type": "code",
   "execution_count": 40,
   "metadata": {},
   "outputs": [
    {
     "output_type": "execute_result",
     "data": {
      "text/plain": [
       "Labels\n",
       "0.0     320348\n",
       "1.0    1577372\n",
       "2.0    1216535\n",
       "3.0      22311\n",
       "4.0     729188\n",
       "5.0     458749\n",
       "6.0     107102\n",
       "7.0     656701\n",
       "8.0    1701649\n",
       "9.0    1991143\n",
       "Name: customerid, dtype: int64"
      ]
     },
     "metadata": {},
     "execution_count": 40
    }
   ],
   "source": [
    "y_cnt = df_m.groupby(['Labels']).count()['customerid']\n",
    "y_cnt"
   ]
  },
  {
   "cell_type": "code",
   "execution_count": 41,
   "metadata": {},
   "outputs": [
    {
     "output_type": "stream",
     "name": "stdout",
     "text": [
      "Float64Index([0.0, 1.0, 2.0, 3.0, 4.0, 5.0, 6.0, 7.0, 8.0, 9.0], dtype='float64', name='Labels')\n"
     ]
    },
    {
     "output_type": "execute_result",
     "data": {
      "text/plain": [
       "array([ 320348, 1577372, 1216535,   22311,  729188,  458749,  107102,\n",
       "        656701, 1701649, 1991143], dtype=int64)"
      ]
     },
     "metadata": {},
     "execution_count": 41
    }
   ],
   "source": [
    "# df_m.groupby(['Labels']).index.shape, y_cnt.values.shape\n",
    "type(y_cnt)\n",
    "print(y_cnt.index)\n",
    "y_cnt.values"
   ]
  },
  {
   "cell_type": "code",
   "execution_count": 42,
   "metadata": {},
   "outputs": [
    {
     "output_type": "display_data",
     "data": {
      "text/plain": "<Figure size 576x432 with 1 Axes>",
      "image/svg+xml": "<?xml version=\"1.0\" encoding=\"utf-8\" standalone=\"no\"?>\r\n<!DOCTYPE svg PUBLIC \"-//W3C//DTD SVG 1.1//EN\"\r\n  \"http://www.w3.org/Graphics/SVG/1.1/DTD/svg11.dtd\">\r\n<!-- Created with matplotlib (https://matplotlib.org/) -->\r\n<svg height=\"389.257187pt\" version=\"1.1\" viewBox=\"0 0 509.550625 389.257187\" width=\"509.550625pt\" xmlns=\"http://www.w3.org/2000/svg\" xmlns:xlink=\"http://www.w3.org/1999/xlink\">\r\n <metadata>\r\n  <rdf:RDF xmlns:cc=\"http://creativecommons.org/ns#\" xmlns:dc=\"http://purl.org/dc/elements/1.1/\" xmlns:rdf=\"http://www.w3.org/1999/02/22-rdf-syntax-ns#\">\r\n   <cc:Work>\r\n    <dc:type rdf:resource=\"http://purl.org/dc/dcmitype/StillImage\"/>\r\n    <dc:date>2021-06-10T16:46:55.429571</dc:date>\r\n    <dc:format>image/svg+xml</dc:format>\r\n    <dc:creator>\r\n     <cc:Agent>\r\n      <dc:title>Matplotlib v3.3.2, https://matplotlib.org/</dc:title>\r\n     </cc:Agent>\r\n    </dc:creator>\r\n   </cc:Work>\r\n  </rdf:RDF>\r\n </metadata>\r\n <defs>\r\n  <style type=\"text/css\">*{stroke-linecap:butt;stroke-linejoin:round;}</style>\r\n </defs>\r\n <g id=\"figure_1\">\r\n  <g id=\"patch_1\">\r\n   <path d=\"M 0 389.257187 \r\nL 509.550625 389.257187 \r\nL 509.550625 0 \r\nL 0 0 \r\nz\r\n\" style=\"fill:none;\"/>\r\n  </g>\r\n  <g id=\"axes_1\">\r\n   <g id=\"patch_2\">\r\n    <path d=\"M 55.950625 343.958438 \r\nL 502.350625 343.958438 \r\nL 502.350625 17.798437 \r\nL 55.950625 17.798437 \r\nz\r\n\" style=\"fill:#ffffff;\"/>\r\n   </g>\r\n   <g id=\"PathCollection_1\">\r\n    <defs>\r\n     <path d=\"M 0 1.581139 \r\nC 0.419323 1.581139 0.821528 1.41454 1.118034 1.118034 \r\nC 1.41454 0.821528 1.581139 0.419323 1.581139 0 \r\nC 1.581139 -0.419323 1.41454 -0.821528 1.118034 -1.118034 \r\nC 0.821528 -1.41454 0.419323 -1.581139 0 -1.581139 \r\nC -0.419323 -1.581139 -0.821528 -1.41454 -1.118034 -1.118034 \r\nC -1.41454 -0.821528 -1.581139 -0.419323 -1.581139 0 \r\nC -1.581139 0.419323 -1.41454 0.821528 -1.118034 1.118034 \r\nC -0.821528 1.41454 -0.419323 1.581139 0 1.581139 \r\nz\r\n\" id=\"m74e7a6f38e\" style=\"stroke:#1f77b4;\"/>\r\n    </defs>\r\n    <g clip-path=\"url(#p038063b8ad)\">\r\n     <use style=\"fill:#1f77b4;stroke:#1f77b4;\" x=\"76.241534\" xlink:href=\"#m74e7a6f38e\" y=\"284.248158\"/>\r\n     <use style=\"fill:#1f77b4;stroke:#1f77b4;\" x=\"121.332443\" xlink:href=\"#m74e7a6f38e\" y=\"94.938433\"/>\r\n     <use style=\"fill:#1f77b4;stroke:#1f77b4;\" x=\"166.423352\" xlink:href=\"#m74e7a6f38e\" y=\"149.281034\"/>\r\n     <use style=\"fill:#1f77b4;stroke:#1f77b4;\" x=\"211.514261\" xlink:href=\"#m74e7a6f38e\" y=\"329.132983\"/>\r\n     <use style=\"fill:#1f77b4;stroke:#1f77b4;\" x=\"256.60517\" xlink:href=\"#m74e7a6f38e\" y=\"222.676233\"/>\r\n     <use style=\"fill:#1f77b4;stroke:#1f77b4;\" x=\"301.69608\" xlink:href=\"#m74e7a6f38e\" y=\"263.404757\"/>\r\n     <use style=\"fill:#1f77b4;stroke:#1f77b4;\" x=\"346.786989\" xlink:href=\"#m74e7a6f38e\" y=\"316.36333\"/>\r\n     <use style=\"fill:#1f77b4;stroke:#1f77b4;\" x=\"391.877898\" xlink:href=\"#m74e7a6f38e\" y=\"233.592885\"/>\r\n     <use style=\"fill:#1f77b4;stroke:#1f77b4;\" x=\"436.968807\" xlink:href=\"#m74e7a6f38e\" y=\"76.222128\"/>\r\n     <use style=\"fill:#1f77b4;stroke:#1f77b4;\" x=\"482.059716\" xlink:href=\"#m74e7a6f38e\" y=\"32.623892\"/>\r\n    </g>\r\n   </g>\r\n   <g id=\"matplotlib.axis_1\">\r\n    <g id=\"xtick_1\">\r\n     <g id=\"line2d_1\">\r\n      <defs>\r\n       <path d=\"M 0 0 \r\nL 0 3.5 \r\n\" id=\"m2aad26047f\" style=\"stroke:#000000;stroke-width:0.8;\"/>\r\n      </defs>\r\n      <g>\r\n       <use style=\"stroke:#000000;stroke-width:0.8;\" x=\"76.241534\" xlink:href=\"#m2aad26047f\" y=\"343.958438\"/>\r\n      </g>\r\n     </g>\r\n     <g id=\"text_1\">\r\n      <!-- 0 -->\r\n      <g transform=\"translate(73.060284 358.556875)scale(0.1 -0.1)\">\r\n       <defs>\r\n        <path d=\"M 31.78125 66.40625 \r\nQ 24.171875 66.40625 20.328125 58.90625 \r\nQ 16.5 51.421875 16.5 36.375 \r\nQ 16.5 21.390625 20.328125 13.890625 \r\nQ 24.171875 6.390625 31.78125 6.390625 \r\nQ 39.453125 6.390625 43.28125 13.890625 \r\nQ 47.125 21.390625 47.125 36.375 \r\nQ 47.125 51.421875 43.28125 58.90625 \r\nQ 39.453125 66.40625 31.78125 66.40625 \r\nz\r\nM 31.78125 74.21875 \r\nQ 44.046875 74.21875 50.515625 64.515625 \r\nQ 56.984375 54.828125 56.984375 36.375 \r\nQ 56.984375 17.96875 50.515625 8.265625 \r\nQ 44.046875 -1.421875 31.78125 -1.421875 \r\nQ 19.53125 -1.421875 13.0625 8.265625 \r\nQ 6.59375 17.96875 6.59375 36.375 \r\nQ 6.59375 54.828125 13.0625 64.515625 \r\nQ 19.53125 74.21875 31.78125 74.21875 \r\nz\r\n\" id=\"DejaVuSans-48\"/>\r\n       </defs>\r\n       <use xlink:href=\"#DejaVuSans-48\"/>\r\n      </g>\r\n     </g>\r\n    </g>\r\n    <g id=\"xtick_2\">\r\n     <g id=\"line2d_2\">\r\n      <g>\r\n       <use style=\"stroke:#000000;stroke-width:0.8;\" x=\"166.423352\" xlink:href=\"#m2aad26047f\" y=\"343.958438\"/>\r\n      </g>\r\n     </g>\r\n     <g id=\"text_2\">\r\n      <!-- 2 -->\r\n      <g transform=\"translate(163.242102 358.556875)scale(0.1 -0.1)\">\r\n       <defs>\r\n        <path d=\"M 19.1875 8.296875 \r\nL 53.609375 8.296875 \r\nL 53.609375 0 \r\nL 7.328125 0 \r\nL 7.328125 8.296875 \r\nQ 12.9375 14.109375 22.625 23.890625 \r\nQ 32.328125 33.6875 34.8125 36.53125 \r\nQ 39.546875 41.84375 41.421875 45.53125 \r\nQ 43.3125 49.21875 43.3125 52.78125 \r\nQ 43.3125 58.59375 39.234375 62.25 \r\nQ 35.15625 65.921875 28.609375 65.921875 \r\nQ 23.96875 65.921875 18.8125 64.3125 \r\nQ 13.671875 62.703125 7.8125 59.421875 \r\nL 7.8125 69.390625 \r\nQ 13.765625 71.78125 18.9375 73 \r\nQ 24.125 74.21875 28.421875 74.21875 \r\nQ 39.75 74.21875 46.484375 68.546875 \r\nQ 53.21875 62.890625 53.21875 53.421875 \r\nQ 53.21875 48.921875 51.53125 44.890625 \r\nQ 49.859375 40.875 45.40625 35.40625 \r\nQ 44.1875 33.984375 37.640625 27.21875 \r\nQ 31.109375 20.453125 19.1875 8.296875 \r\nz\r\n\" id=\"DejaVuSans-50\"/>\r\n       </defs>\r\n       <use xlink:href=\"#DejaVuSans-50\"/>\r\n      </g>\r\n     </g>\r\n    </g>\r\n    <g id=\"xtick_3\">\r\n     <g id=\"line2d_3\">\r\n      <g>\r\n       <use style=\"stroke:#000000;stroke-width:0.8;\" x=\"256.60517\" xlink:href=\"#m2aad26047f\" y=\"343.958438\"/>\r\n      </g>\r\n     </g>\r\n     <g id=\"text_3\">\r\n      <!-- 4 -->\r\n      <g transform=\"translate(253.42392 358.556875)scale(0.1 -0.1)\">\r\n       <defs>\r\n        <path d=\"M 37.796875 64.3125 \r\nL 12.890625 25.390625 \r\nL 37.796875 25.390625 \r\nz\r\nM 35.203125 72.90625 \r\nL 47.609375 72.90625 \r\nL 47.609375 25.390625 \r\nL 58.015625 25.390625 \r\nL 58.015625 17.1875 \r\nL 47.609375 17.1875 \r\nL 47.609375 0 \r\nL 37.796875 0 \r\nL 37.796875 17.1875 \r\nL 4.890625 17.1875 \r\nL 4.890625 26.703125 \r\nz\r\n\" id=\"DejaVuSans-52\"/>\r\n       </defs>\r\n       <use xlink:href=\"#DejaVuSans-52\"/>\r\n      </g>\r\n     </g>\r\n    </g>\r\n    <g id=\"xtick_4\">\r\n     <g id=\"line2d_4\">\r\n      <g>\r\n       <use style=\"stroke:#000000;stroke-width:0.8;\" x=\"346.786989\" xlink:href=\"#m2aad26047f\" y=\"343.958438\"/>\r\n      </g>\r\n     </g>\r\n     <g id=\"text_4\">\r\n      <!-- 6 -->\r\n      <g transform=\"translate(343.605739 358.556875)scale(0.1 -0.1)\">\r\n       <defs>\r\n        <path d=\"M 33.015625 40.375 \r\nQ 26.375 40.375 22.484375 35.828125 \r\nQ 18.609375 31.296875 18.609375 23.390625 \r\nQ 18.609375 15.53125 22.484375 10.953125 \r\nQ 26.375 6.390625 33.015625 6.390625 \r\nQ 39.65625 6.390625 43.53125 10.953125 \r\nQ 47.40625 15.53125 47.40625 23.390625 \r\nQ 47.40625 31.296875 43.53125 35.828125 \r\nQ 39.65625 40.375 33.015625 40.375 \r\nz\r\nM 52.59375 71.296875 \r\nL 52.59375 62.3125 \r\nQ 48.875 64.0625 45.09375 64.984375 \r\nQ 41.3125 65.921875 37.59375 65.921875 \r\nQ 27.828125 65.921875 22.671875 59.328125 \r\nQ 17.53125 52.734375 16.796875 39.40625 \r\nQ 19.671875 43.65625 24.015625 45.921875 \r\nQ 28.375 48.1875 33.59375 48.1875 \r\nQ 44.578125 48.1875 50.953125 41.515625 \r\nQ 57.328125 34.859375 57.328125 23.390625 \r\nQ 57.328125 12.15625 50.6875 5.359375 \r\nQ 44.046875 -1.421875 33.015625 -1.421875 \r\nQ 20.359375 -1.421875 13.671875 8.265625 \r\nQ 6.984375 17.96875 6.984375 36.375 \r\nQ 6.984375 53.65625 15.1875 63.9375 \r\nQ 23.390625 74.21875 37.203125 74.21875 \r\nQ 40.921875 74.21875 44.703125 73.484375 \r\nQ 48.484375 72.75 52.59375 71.296875 \r\nz\r\n\" id=\"DejaVuSans-54\"/>\r\n       </defs>\r\n       <use xlink:href=\"#DejaVuSans-54\"/>\r\n      </g>\r\n     </g>\r\n    </g>\r\n    <g id=\"xtick_5\">\r\n     <g id=\"line2d_5\">\r\n      <g>\r\n       <use style=\"stroke:#000000;stroke-width:0.8;\" x=\"436.968807\" xlink:href=\"#m2aad26047f\" y=\"343.958438\"/>\r\n      </g>\r\n     </g>\r\n     <g id=\"text_5\">\r\n      <!-- 8 -->\r\n      <g transform=\"translate(433.787557 358.556875)scale(0.1 -0.1)\">\r\n       <defs>\r\n        <path d=\"M 31.78125 34.625 \r\nQ 24.75 34.625 20.71875 30.859375 \r\nQ 16.703125 27.09375 16.703125 20.515625 \r\nQ 16.703125 13.921875 20.71875 10.15625 \r\nQ 24.75 6.390625 31.78125 6.390625 \r\nQ 38.8125 6.390625 42.859375 10.171875 \r\nQ 46.921875 13.96875 46.921875 20.515625 \r\nQ 46.921875 27.09375 42.890625 30.859375 \r\nQ 38.875 34.625 31.78125 34.625 \r\nz\r\nM 21.921875 38.8125 \r\nQ 15.578125 40.375 12.03125 44.71875 \r\nQ 8.5 49.078125 8.5 55.328125 \r\nQ 8.5 64.0625 14.71875 69.140625 \r\nQ 20.953125 74.21875 31.78125 74.21875 \r\nQ 42.671875 74.21875 48.875 69.140625 \r\nQ 55.078125 64.0625 55.078125 55.328125 \r\nQ 55.078125 49.078125 51.53125 44.71875 \r\nQ 48 40.375 41.703125 38.8125 \r\nQ 48.828125 37.15625 52.796875 32.3125 \r\nQ 56.78125 27.484375 56.78125 20.515625 \r\nQ 56.78125 9.90625 50.3125 4.234375 \r\nQ 43.84375 -1.421875 31.78125 -1.421875 \r\nQ 19.734375 -1.421875 13.25 4.234375 \r\nQ 6.78125 9.90625 6.78125 20.515625 \r\nQ 6.78125 27.484375 10.78125 32.3125 \r\nQ 14.796875 37.15625 21.921875 38.8125 \r\nz\r\nM 18.3125 54.390625 \r\nQ 18.3125 48.734375 21.84375 45.5625 \r\nQ 25.390625 42.390625 31.78125 42.390625 \r\nQ 38.140625 42.390625 41.71875 45.5625 \r\nQ 45.3125 48.734375 45.3125 54.390625 \r\nQ 45.3125 60.0625 41.71875 63.234375 \r\nQ 38.140625 66.40625 31.78125 66.40625 \r\nQ 25.390625 66.40625 21.84375 63.234375 \r\nQ 18.3125 60.0625 18.3125 54.390625 \r\nz\r\n\" id=\"DejaVuSans-56\"/>\r\n       </defs>\r\n       <use xlink:href=\"#DejaVuSans-56\"/>\r\n      </g>\r\n     </g>\r\n    </g>\r\n    <g id=\"text_6\">\r\n     <!-- Labels -->\r\n     <g transform=\"translate(250.180469 378.31375)scale(0.18 -0.18)\">\r\n      <defs>\r\n       <path d=\"M 9.8125 72.90625 \r\nL 19.671875 72.90625 \r\nL 19.671875 8.296875 \r\nL 55.171875 8.296875 \r\nL 55.171875 0 \r\nL 9.8125 0 \r\nz\r\n\" id=\"DejaVuSans-76\"/>\r\n       <path d=\"M 34.28125 27.484375 \r\nQ 23.390625 27.484375 19.1875 25 \r\nQ 14.984375 22.515625 14.984375 16.5 \r\nQ 14.984375 11.71875 18.140625 8.90625 \r\nQ 21.296875 6.109375 26.703125 6.109375 \r\nQ 34.1875 6.109375 38.703125 11.40625 \r\nQ 43.21875 16.703125 43.21875 25.484375 \r\nL 43.21875 27.484375 \r\nz\r\nM 52.203125 31.203125 \r\nL 52.203125 0 \r\nL 43.21875 0 \r\nL 43.21875 8.296875 \r\nQ 40.140625 3.328125 35.546875 0.953125 \r\nQ 30.953125 -1.421875 24.3125 -1.421875 \r\nQ 15.921875 -1.421875 10.953125 3.296875 \r\nQ 6 8.015625 6 15.921875 \r\nQ 6 25.140625 12.171875 29.828125 \r\nQ 18.359375 34.515625 30.609375 34.515625 \r\nL 43.21875 34.515625 \r\nL 43.21875 35.40625 \r\nQ 43.21875 41.609375 39.140625 45 \r\nQ 35.0625 48.390625 27.6875 48.390625 \r\nQ 23 48.390625 18.546875 47.265625 \r\nQ 14.109375 46.140625 10.015625 43.890625 \r\nL 10.015625 52.203125 \r\nQ 14.9375 54.109375 19.578125 55.046875 \r\nQ 24.21875 56 28.609375 56 \r\nQ 40.484375 56 46.34375 49.84375 \r\nQ 52.203125 43.703125 52.203125 31.203125 \r\nz\r\n\" id=\"DejaVuSans-97\"/>\r\n       <path d=\"M 48.6875 27.296875 \r\nQ 48.6875 37.203125 44.609375 42.84375 \r\nQ 40.53125 48.484375 33.40625 48.484375 \r\nQ 26.265625 48.484375 22.1875 42.84375 \r\nQ 18.109375 37.203125 18.109375 27.296875 \r\nQ 18.109375 17.390625 22.1875 11.75 \r\nQ 26.265625 6.109375 33.40625 6.109375 \r\nQ 40.53125 6.109375 44.609375 11.75 \r\nQ 48.6875 17.390625 48.6875 27.296875 \r\nz\r\nM 18.109375 46.390625 \r\nQ 20.953125 51.265625 25.265625 53.625 \r\nQ 29.59375 56 35.59375 56 \r\nQ 45.5625 56 51.78125 48.09375 \r\nQ 58.015625 40.1875 58.015625 27.296875 \r\nQ 58.015625 14.40625 51.78125 6.484375 \r\nQ 45.5625 -1.421875 35.59375 -1.421875 \r\nQ 29.59375 -1.421875 25.265625 0.953125 \r\nQ 20.953125 3.328125 18.109375 8.203125 \r\nL 18.109375 0 \r\nL 9.078125 0 \r\nL 9.078125 75.984375 \r\nL 18.109375 75.984375 \r\nz\r\n\" id=\"DejaVuSans-98\"/>\r\n       <path d=\"M 56.203125 29.59375 \r\nL 56.203125 25.203125 \r\nL 14.890625 25.203125 \r\nQ 15.484375 15.921875 20.484375 11.0625 \r\nQ 25.484375 6.203125 34.421875 6.203125 \r\nQ 39.59375 6.203125 44.453125 7.46875 \r\nQ 49.3125 8.734375 54.109375 11.28125 \r\nL 54.109375 2.78125 \r\nQ 49.265625 0.734375 44.1875 -0.34375 \r\nQ 39.109375 -1.421875 33.890625 -1.421875 \r\nQ 20.796875 -1.421875 13.15625 6.1875 \r\nQ 5.515625 13.8125 5.515625 26.8125 \r\nQ 5.515625 40.234375 12.765625 48.109375 \r\nQ 20.015625 56 32.328125 56 \r\nQ 43.359375 56 49.78125 48.890625 \r\nQ 56.203125 41.796875 56.203125 29.59375 \r\nz\r\nM 47.21875 32.234375 \r\nQ 47.125 39.59375 43.09375 43.984375 \r\nQ 39.0625 48.390625 32.421875 48.390625 \r\nQ 24.90625 48.390625 20.390625 44.140625 \r\nQ 15.875 39.890625 15.1875 32.171875 \r\nz\r\n\" id=\"DejaVuSans-101\"/>\r\n       <path d=\"M 9.421875 75.984375 \r\nL 18.40625 75.984375 \r\nL 18.40625 0 \r\nL 9.421875 0 \r\nz\r\n\" id=\"DejaVuSans-108\"/>\r\n       <path d=\"M 44.28125 53.078125 \r\nL 44.28125 44.578125 \r\nQ 40.484375 46.53125 36.375 47.5 \r\nQ 32.28125 48.484375 27.875 48.484375 \r\nQ 21.1875 48.484375 17.84375 46.4375 \r\nQ 14.5 44.390625 14.5 40.28125 \r\nQ 14.5 37.15625 16.890625 35.375 \r\nQ 19.28125 33.59375 26.515625 31.984375 \r\nL 29.59375 31.296875 \r\nQ 39.15625 29.25 43.1875 25.515625 \r\nQ 47.21875 21.78125 47.21875 15.09375 \r\nQ 47.21875 7.46875 41.1875 3.015625 \r\nQ 35.15625 -1.421875 24.609375 -1.421875 \r\nQ 20.21875 -1.421875 15.453125 -0.5625 \r\nQ 10.6875 0.296875 5.421875 2 \r\nL 5.421875 11.28125 \r\nQ 10.40625 8.6875 15.234375 7.390625 \r\nQ 20.0625 6.109375 24.8125 6.109375 \r\nQ 31.15625 6.109375 34.5625 8.28125 \r\nQ 37.984375 10.453125 37.984375 14.40625 \r\nQ 37.984375 18.0625 35.515625 20.015625 \r\nQ 33.0625 21.96875 24.703125 23.78125 \r\nL 21.578125 24.515625 \r\nQ 13.234375 26.265625 9.515625 29.90625 \r\nQ 5.8125 33.546875 5.8125 39.890625 \r\nQ 5.8125 47.609375 11.28125 51.796875 \r\nQ 16.75 56 26.8125 56 \r\nQ 31.78125 56 36.171875 55.265625 \r\nQ 40.578125 54.546875 44.28125 53.078125 \r\nz\r\n\" id=\"DejaVuSans-115\"/>\r\n      </defs>\r\n      <use xlink:href=\"#DejaVuSans-76\"/>\r\n      <use x=\"55.712891\" xlink:href=\"#DejaVuSans-97\"/>\r\n      <use x=\"116.992188\" xlink:href=\"#DejaVuSans-98\"/>\r\n      <use x=\"180.46875\" xlink:href=\"#DejaVuSans-101\"/>\r\n      <use x=\"241.992188\" xlink:href=\"#DejaVuSans-108\"/>\r\n      <use x=\"269.775391\" xlink:href=\"#DejaVuSans-115\"/>\r\n     </g>\r\n    </g>\r\n   </g>\r\n   <g id=\"matplotlib.axis_2\">\r\n    <g id=\"ytick_1\">\r\n     <g id=\"line2d_6\">\r\n      <defs>\r\n       <path d=\"M 0 0 \r\nL -3.5 0 \r\n\" id=\"m5a30a27a08\" style=\"stroke:#000000;stroke-width:0.8;\"/>\r\n      </defs>\r\n      <g>\r\n       <use style=\"stroke:#000000;stroke-width:0.8;\" x=\"55.950625\" xlink:href=\"#m5a30a27a08\" y=\"332.493053\"/>\r\n      </g>\r\n     </g>\r\n     <g id=\"text_7\">\r\n      <!-- 0.00 -->\r\n      <g transform=\"translate(26.685 336.292272)scale(0.1 -0.1)\">\r\n       <defs>\r\n        <path d=\"M 10.6875 12.40625 \r\nL 21 12.40625 \r\nL 21 0 \r\nL 10.6875 0 \r\nz\r\n\" id=\"DejaVuSans-46\"/>\r\n       </defs>\r\n       <use xlink:href=\"#DejaVuSans-48\"/>\r\n       <use x=\"63.623047\" xlink:href=\"#DejaVuSans-46\"/>\r\n       <use x=\"95.410156\" xlink:href=\"#DejaVuSans-48\"/>\r\n       <use x=\"159.033203\" xlink:href=\"#DejaVuSans-48\"/>\r\n      </g>\r\n     </g>\r\n    </g>\r\n    <g id=\"ytick_2\">\r\n     <g id=\"line2d_7\">\r\n      <g>\r\n       <use style=\"stroke:#000000;stroke-width:0.8;\" x=\"55.950625\" xlink:href=\"#m5a30a27a08\" y=\"294.842674\"/>\r\n      </g>\r\n     </g>\r\n     <g id=\"text_8\">\r\n      <!-- 0.25 -->\r\n      <g transform=\"translate(26.685 298.641892)scale(0.1 -0.1)\">\r\n       <defs>\r\n        <path d=\"M 10.796875 72.90625 \r\nL 49.515625 72.90625 \r\nL 49.515625 64.59375 \r\nL 19.828125 64.59375 \r\nL 19.828125 46.734375 \r\nQ 21.96875 47.46875 24.109375 47.828125 \r\nQ 26.265625 48.1875 28.421875 48.1875 \r\nQ 40.625 48.1875 47.75 41.5 \r\nQ 54.890625 34.8125 54.890625 23.390625 \r\nQ 54.890625 11.625 47.5625 5.09375 \r\nQ 40.234375 -1.421875 26.90625 -1.421875 \r\nQ 22.3125 -1.421875 17.546875 -0.640625 \r\nQ 12.796875 0.140625 7.71875 1.703125 \r\nL 7.71875 11.625 \r\nQ 12.109375 9.234375 16.796875 8.0625 \r\nQ 21.484375 6.890625 26.703125 6.890625 \r\nQ 35.15625 6.890625 40.078125 11.328125 \r\nQ 45.015625 15.765625 45.015625 23.390625 \r\nQ 45.015625 31 40.078125 35.4375 \r\nQ 35.15625 39.890625 26.703125 39.890625 \r\nQ 22.75 39.890625 18.8125 39.015625 \r\nQ 14.890625 38.140625 10.796875 36.28125 \r\nz\r\n\" id=\"DejaVuSans-53\"/>\r\n       </defs>\r\n       <use xlink:href=\"#DejaVuSans-48\"/>\r\n       <use x=\"63.623047\" xlink:href=\"#DejaVuSans-46\"/>\r\n       <use x=\"95.410156\" xlink:href=\"#DejaVuSans-50\"/>\r\n       <use x=\"159.033203\" xlink:href=\"#DejaVuSans-53\"/>\r\n      </g>\r\n     </g>\r\n    </g>\r\n    <g id=\"ytick_3\">\r\n     <g id=\"line2d_8\">\r\n      <g>\r\n       <use style=\"stroke:#000000;stroke-width:0.8;\" x=\"55.950625\" xlink:href=\"#m5a30a27a08\" y=\"257.192294\"/>\r\n      </g>\r\n     </g>\r\n     <g id=\"text_9\">\r\n      <!-- 0.50 -->\r\n      <g transform=\"translate(26.685 260.991512)scale(0.1 -0.1)\">\r\n       <use xlink:href=\"#DejaVuSans-48\"/>\r\n       <use x=\"63.623047\" xlink:href=\"#DejaVuSans-46\"/>\r\n       <use x=\"95.410156\" xlink:href=\"#DejaVuSans-53\"/>\r\n       <use x=\"159.033203\" xlink:href=\"#DejaVuSans-48\"/>\r\n      </g>\r\n     </g>\r\n    </g>\r\n    <g id=\"ytick_4\">\r\n     <g id=\"line2d_9\">\r\n      <g>\r\n       <use style=\"stroke:#000000;stroke-width:0.8;\" x=\"55.950625\" xlink:href=\"#m5a30a27a08\" y=\"219.541914\"/>\r\n      </g>\r\n     </g>\r\n     <g id=\"text_10\">\r\n      <!-- 0.75 -->\r\n      <g transform=\"translate(26.685 223.341133)scale(0.1 -0.1)\">\r\n       <defs>\r\n        <path d=\"M 8.203125 72.90625 \r\nL 55.078125 72.90625 \r\nL 55.078125 68.703125 \r\nL 28.609375 0 \r\nL 18.3125 0 \r\nL 43.21875 64.59375 \r\nL 8.203125 64.59375 \r\nz\r\n\" id=\"DejaVuSans-55\"/>\r\n       </defs>\r\n       <use xlink:href=\"#DejaVuSans-48\"/>\r\n       <use x=\"63.623047\" xlink:href=\"#DejaVuSans-46\"/>\r\n       <use x=\"95.410156\" xlink:href=\"#DejaVuSans-55\"/>\r\n       <use x=\"159.033203\" xlink:href=\"#DejaVuSans-53\"/>\r\n      </g>\r\n     </g>\r\n    </g>\r\n    <g id=\"ytick_5\">\r\n     <g id=\"line2d_10\">\r\n      <g>\r\n       <use style=\"stroke:#000000;stroke-width:0.8;\" x=\"55.950625\" xlink:href=\"#m5a30a27a08\" y=\"181.891534\"/>\r\n      </g>\r\n     </g>\r\n     <g id=\"text_11\">\r\n      <!-- 1.00 -->\r\n      <g transform=\"translate(26.685 185.690753)scale(0.1 -0.1)\">\r\n       <defs>\r\n        <path d=\"M 12.40625 8.296875 \r\nL 28.515625 8.296875 \r\nL 28.515625 63.921875 \r\nL 10.984375 60.40625 \r\nL 10.984375 69.390625 \r\nL 28.421875 72.90625 \r\nL 38.28125 72.90625 \r\nL 38.28125 8.296875 \r\nL 54.390625 8.296875 \r\nL 54.390625 0 \r\nL 12.40625 0 \r\nz\r\n\" id=\"DejaVuSans-49\"/>\r\n       </defs>\r\n       <use xlink:href=\"#DejaVuSans-49\"/>\r\n       <use x=\"63.623047\" xlink:href=\"#DejaVuSans-46\"/>\r\n       <use x=\"95.410156\" xlink:href=\"#DejaVuSans-48\"/>\r\n       <use x=\"159.033203\" xlink:href=\"#DejaVuSans-48\"/>\r\n      </g>\r\n     </g>\r\n    </g>\r\n    <g id=\"ytick_6\">\r\n     <g id=\"line2d_11\">\r\n      <g>\r\n       <use style=\"stroke:#000000;stroke-width:0.8;\" x=\"55.950625\" xlink:href=\"#m5a30a27a08\" y=\"144.241154\"/>\r\n      </g>\r\n     </g>\r\n     <g id=\"text_12\">\r\n      <!-- 1.25 -->\r\n      <g transform=\"translate(26.685 148.040373)scale(0.1 -0.1)\">\r\n       <use xlink:href=\"#DejaVuSans-49\"/>\r\n       <use x=\"63.623047\" xlink:href=\"#DejaVuSans-46\"/>\r\n       <use x=\"95.410156\" xlink:href=\"#DejaVuSans-50\"/>\r\n       <use x=\"159.033203\" xlink:href=\"#DejaVuSans-53\"/>\r\n      </g>\r\n     </g>\r\n    </g>\r\n    <g id=\"ytick_7\">\r\n     <g id=\"line2d_12\">\r\n      <g>\r\n       <use style=\"stroke:#000000;stroke-width:0.8;\" x=\"55.950625\" xlink:href=\"#m5a30a27a08\" y=\"106.590774\"/>\r\n      </g>\r\n     </g>\r\n     <g id=\"text_13\">\r\n      <!-- 1.50 -->\r\n      <g transform=\"translate(26.685 110.389993)scale(0.1 -0.1)\">\r\n       <use xlink:href=\"#DejaVuSans-49\"/>\r\n       <use x=\"63.623047\" xlink:href=\"#DejaVuSans-46\"/>\r\n       <use x=\"95.410156\" xlink:href=\"#DejaVuSans-53\"/>\r\n       <use x=\"159.033203\" xlink:href=\"#DejaVuSans-48\"/>\r\n      </g>\r\n     </g>\r\n    </g>\r\n    <g id=\"ytick_8\">\r\n     <g id=\"line2d_13\">\r\n      <g>\r\n       <use style=\"stroke:#000000;stroke-width:0.8;\" x=\"55.950625\" xlink:href=\"#m5a30a27a08\" y=\"68.940394\"/>\r\n      </g>\r\n     </g>\r\n     <g id=\"text_14\">\r\n      <!-- 1.75 -->\r\n      <g transform=\"translate(26.685 72.739613)scale(0.1 -0.1)\">\r\n       <use xlink:href=\"#DejaVuSans-49\"/>\r\n       <use x=\"63.623047\" xlink:href=\"#DejaVuSans-46\"/>\r\n       <use x=\"95.410156\" xlink:href=\"#DejaVuSans-55\"/>\r\n       <use x=\"159.033203\" xlink:href=\"#DejaVuSans-53\"/>\r\n      </g>\r\n     </g>\r\n    </g>\r\n    <g id=\"ytick_9\">\r\n     <g id=\"line2d_14\">\r\n      <g>\r\n       <use style=\"stroke:#000000;stroke-width:0.8;\" x=\"55.950625\" xlink:href=\"#m5a30a27a08\" y=\"31.290014\"/>\r\n      </g>\r\n     </g>\r\n     <g id=\"text_15\">\r\n      <!-- 2.00 -->\r\n      <g transform=\"translate(26.685 35.089233)scale(0.1 -0.1)\">\r\n       <use xlink:href=\"#DejaVuSans-50\"/>\r\n       <use x=\"63.623047\" xlink:href=\"#DejaVuSans-46\"/>\r\n       <use x=\"95.410156\" xlink:href=\"#DejaVuSans-48\"/>\r\n       <use x=\"159.033203\" xlink:href=\"#DejaVuSans-48\"/>\r\n      </g>\r\n     </g>\r\n    </g>\r\n    <g id=\"text_16\">\r\n     <!-- User Count -->\r\n     <g transform=\"translate(19.3575 225.412187)rotate(-90)scale(0.16 -0.16)\">\r\n      <defs>\r\n       <path d=\"M 8.6875 72.90625 \r\nL 18.609375 72.90625 \r\nL 18.609375 28.609375 \r\nQ 18.609375 16.890625 22.84375 11.734375 \r\nQ 27.09375 6.59375 36.625 6.59375 \r\nQ 46.09375 6.59375 50.34375 11.734375 \r\nQ 54.59375 16.890625 54.59375 28.609375 \r\nL 54.59375 72.90625 \r\nL 64.5 72.90625 \r\nL 64.5 27.390625 \r\nQ 64.5 13.140625 57.4375 5.859375 \r\nQ 50.390625 -1.421875 36.625 -1.421875 \r\nQ 22.796875 -1.421875 15.734375 5.859375 \r\nQ 8.6875 13.140625 8.6875 27.390625 \r\nz\r\n\" id=\"DejaVuSans-85\"/>\r\n       <path d=\"M 41.109375 46.296875 \r\nQ 39.59375 47.171875 37.8125 47.578125 \r\nQ 36.03125 48 33.890625 48 \r\nQ 26.265625 48 22.1875 43.046875 \r\nQ 18.109375 38.09375 18.109375 28.8125 \r\nL 18.109375 0 \r\nL 9.078125 0 \r\nL 9.078125 54.6875 \r\nL 18.109375 54.6875 \r\nL 18.109375 46.1875 \r\nQ 20.953125 51.171875 25.484375 53.578125 \r\nQ 30.03125 56 36.53125 56 \r\nQ 37.453125 56 38.578125 55.875 \r\nQ 39.703125 55.765625 41.0625 55.515625 \r\nz\r\n\" id=\"DejaVuSans-114\"/>\r\n       <path id=\"DejaVuSans-32\"/>\r\n       <path d=\"M 64.40625 67.28125 \r\nL 64.40625 56.890625 \r\nQ 59.421875 61.53125 53.78125 63.8125 \r\nQ 48.140625 66.109375 41.796875 66.109375 \r\nQ 29.296875 66.109375 22.65625 58.46875 \r\nQ 16.015625 50.828125 16.015625 36.375 \r\nQ 16.015625 21.96875 22.65625 14.328125 \r\nQ 29.296875 6.6875 41.796875 6.6875 \r\nQ 48.140625 6.6875 53.78125 8.984375 \r\nQ 59.421875 11.28125 64.40625 15.921875 \r\nL 64.40625 5.609375 \r\nQ 59.234375 2.09375 53.4375 0.328125 \r\nQ 47.65625 -1.421875 41.21875 -1.421875 \r\nQ 24.65625 -1.421875 15.125 8.703125 \r\nQ 5.609375 18.84375 5.609375 36.375 \r\nQ 5.609375 53.953125 15.125 64.078125 \r\nQ 24.65625 74.21875 41.21875 74.21875 \r\nQ 47.75 74.21875 53.53125 72.484375 \r\nQ 59.328125 70.75 64.40625 67.28125 \r\nz\r\n\" id=\"DejaVuSans-67\"/>\r\n       <path d=\"M 30.609375 48.390625 \r\nQ 23.390625 48.390625 19.1875 42.75 \r\nQ 14.984375 37.109375 14.984375 27.296875 \r\nQ 14.984375 17.484375 19.15625 11.84375 \r\nQ 23.34375 6.203125 30.609375 6.203125 \r\nQ 37.796875 6.203125 41.984375 11.859375 \r\nQ 46.1875 17.53125 46.1875 27.296875 \r\nQ 46.1875 37.015625 41.984375 42.703125 \r\nQ 37.796875 48.390625 30.609375 48.390625 \r\nz\r\nM 30.609375 56 \r\nQ 42.328125 56 49.015625 48.375 \r\nQ 55.71875 40.765625 55.71875 27.296875 \r\nQ 55.71875 13.875 49.015625 6.21875 \r\nQ 42.328125 -1.421875 30.609375 -1.421875 \r\nQ 18.84375 -1.421875 12.171875 6.21875 \r\nQ 5.515625 13.875 5.515625 27.296875 \r\nQ 5.515625 40.765625 12.171875 48.375 \r\nQ 18.84375 56 30.609375 56 \r\nz\r\n\" id=\"DejaVuSans-111\"/>\r\n       <path d=\"M 8.5 21.578125 \r\nL 8.5 54.6875 \r\nL 17.484375 54.6875 \r\nL 17.484375 21.921875 \r\nQ 17.484375 14.15625 20.5 10.265625 \r\nQ 23.53125 6.390625 29.59375 6.390625 \r\nQ 36.859375 6.390625 41.078125 11.03125 \r\nQ 45.3125 15.671875 45.3125 23.6875 \r\nL 45.3125 54.6875 \r\nL 54.296875 54.6875 \r\nL 54.296875 0 \r\nL 45.3125 0 \r\nL 45.3125 8.40625 \r\nQ 42.046875 3.421875 37.71875 1 \r\nQ 33.40625 -1.421875 27.6875 -1.421875 \r\nQ 18.265625 -1.421875 13.375 4.4375 \r\nQ 8.5 10.296875 8.5 21.578125 \r\nz\r\nM 31.109375 56 \r\nz\r\n\" id=\"DejaVuSans-117\"/>\r\n       <path d=\"M 54.890625 33.015625 \r\nL 54.890625 0 \r\nL 45.90625 0 \r\nL 45.90625 32.71875 \r\nQ 45.90625 40.484375 42.875 44.328125 \r\nQ 39.84375 48.1875 33.796875 48.1875 \r\nQ 26.515625 48.1875 22.3125 43.546875 \r\nQ 18.109375 38.921875 18.109375 30.90625 \r\nL 18.109375 0 \r\nL 9.078125 0 \r\nL 9.078125 54.6875 \r\nL 18.109375 54.6875 \r\nL 18.109375 46.1875 \r\nQ 21.34375 51.125 25.703125 53.5625 \r\nQ 30.078125 56 35.796875 56 \r\nQ 45.21875 56 50.046875 50.171875 \r\nQ 54.890625 44.34375 54.890625 33.015625 \r\nz\r\n\" id=\"DejaVuSans-110\"/>\r\n       <path d=\"M 18.3125 70.21875 \r\nL 18.3125 54.6875 \r\nL 36.8125 54.6875 \r\nL 36.8125 47.703125 \r\nL 18.3125 47.703125 \r\nL 18.3125 18.015625 \r\nQ 18.3125 11.328125 20.140625 9.421875 \r\nQ 21.96875 7.515625 27.59375 7.515625 \r\nL 36.8125 7.515625 \r\nL 36.8125 0 \r\nL 27.59375 0 \r\nQ 17.1875 0 13.234375 3.875 \r\nQ 9.28125 7.765625 9.28125 18.015625 \r\nL 9.28125 47.703125 \r\nL 2.6875 47.703125 \r\nL 2.6875 54.6875 \r\nL 9.28125 54.6875 \r\nL 9.28125 70.21875 \r\nz\r\n\" id=\"DejaVuSans-116\"/>\r\n      </defs>\r\n      <use xlink:href=\"#DejaVuSans-85\"/>\r\n      <use x=\"73.193359\" xlink:href=\"#DejaVuSans-115\"/>\r\n      <use x=\"125.292969\" xlink:href=\"#DejaVuSans-101\"/>\r\n      <use x=\"186.816406\" xlink:href=\"#DejaVuSans-114\"/>\r\n      <use x=\"227.929688\" xlink:href=\"#DejaVuSans-32\"/>\r\n      <use x=\"259.716797\" xlink:href=\"#DejaVuSans-67\"/>\r\n      <use x=\"329.541016\" xlink:href=\"#DejaVuSans-111\"/>\r\n      <use x=\"390.722656\" xlink:href=\"#DejaVuSans-117\"/>\r\n      <use x=\"454.101562\" xlink:href=\"#DejaVuSans-110\"/>\r\n      <use x=\"517.480469\" xlink:href=\"#DejaVuSans-116\"/>\r\n     </g>\r\n    </g>\r\n    <g id=\"text_17\">\r\n     <!-- 1e6 -->\r\n     <g transform=\"translate(55.950625 14.798437)scale(0.1 -0.1)\">\r\n      <use xlink:href=\"#DejaVuSans-49\"/>\r\n      <use x=\"63.623047\" xlink:href=\"#DejaVuSans-101\"/>\r\n      <use x=\"125.146484\" xlink:href=\"#DejaVuSans-54\"/>\r\n     </g>\r\n    </g>\r\n   </g>\r\n   <g id=\"patch_3\">\r\n    <path d=\"M 55.950625 343.958438 \r\nL 55.950625 17.798438 \r\n\" style=\"fill:none;stroke:#000000;stroke-linecap:square;stroke-linejoin:miter;stroke-width:0.8;\"/>\r\n   </g>\r\n   <g id=\"patch_4\">\r\n    <path d=\"M 502.350625 343.958438 \r\nL 502.350625 17.798438 \r\n\" style=\"fill:none;stroke:#000000;stroke-linecap:square;stroke-linejoin:miter;stroke-width:0.8;\"/>\r\n   </g>\r\n   <g id=\"patch_5\">\r\n    <path d=\"M 55.950625 343.958438 \r\nL 502.350625 343.958438 \r\n\" style=\"fill:none;stroke:#000000;stroke-linecap:square;stroke-linejoin:miter;stroke-width:0.8;\"/>\r\n   </g>\r\n   <g id=\"patch_6\">\r\n    <path d=\"M 55.950625 17.798437 \r\nL 502.350625 17.798437 \r\n\" style=\"fill:none;stroke:#000000;stroke-linecap:square;stroke-linejoin:miter;stroke-width:0.8;\"/>\r\n   </g>\r\n  </g>\r\n </g>\r\n <defs>\r\n  <clipPath id=\"p038063b8ad\">\r\n   <rect height=\"326.16\" width=\"446.4\" x=\"55.950625\" y=\"17.798437\"/>\r\n  </clipPath>\r\n </defs>\r\n</svg>\r\n",
      "image/png": "[encoded data removed]"
     },
     "metadata": {
      "needs_background": "light"
     }
    }
   ],
   "source": [
    "from matplotlib.colors import ListedColormap\n",
    "import matplotlib.pyplot as plt\n",
    "colors = ListedColormap(['#FF0000', '#00FF00', '#0000FF'])\n",
    "\n",
    "plt.figure(figsize=(8, 6))\n",
    "plt.scatter(y_cnt.index, y_cnt.values, s=10)\n",
    "plt.xlabel('Labels', fontsize=18)\n",
    "plt.ylabel('User Count', fontsize=16)\n",
    "\n",
    "plt.show()"
   ]
  },
  {
   "cell_type": "code",
   "execution_count": 43,
   "metadata": {},
   "outputs": [
    {
     "output_type": "stream",
     "name": "stdout",
     "text": [
      "<class 'pandas.core.frame.DataFrame'>\nInt64Index: 8781115 entries, 0 to 8781114\nData columns (total 68 columns):\n #   Column                                  Dtype   \n---  ------                                  -----   \n 0   Year_x                                  int64   \n 1   Quarter_x                               object  \n 2   gender                                  object  \n 3   age_group                               object  \n 4   amount_group                            object  \n 5   customer_zip_code_x                     object  \n 6   hour_range                              object  \n 7   category_name                           object  \n 8   month_x                                 int64   \n 9   day_x                                   int64   \n 10  dayofweek_x                             int64   \n 11  customerid                              int64   \n 12  Count                                   int64   \n 13  order_group                             object  \n 14  Year_y                                  float64 \n 15  Quarter_y                               float64 \n 16  customer_zip_code_y                     float64 \n 17  month_y                                 float64 \n 18  day_y                                   float64 \n 19  dayofweek_y                             float64 \n 20  gender_Female                           float64 \n 21  gender_Male                             float64 \n 22  age_group_14~19                         float64 \n 23  age_group_20~24                         float64 \n 24  age_group_25~29                         float64 \n 25  age_group_30~34                         float64 \n 26  age_group_35~39                         float64 \n 27  age_group_40~44                         float64 \n 28  age_group_45~49                         float64 \n 29  age_group_50~54                         float64 \n 30  age_group_55~59                         float64 \n 31  age_group_60~64                         float64 \n 32  age_group_65~69                         float64 \n 33  age_group_70+                           float64 \n 34  hour_range_0~3.59                       float64 \n 35  hour_range_11~13.59                     float64 \n 36  hour_range_14~16.59                     float64 \n 37  hour_range_17~20.59                     float64 \n 38  hour_range_21~23.59                     float64 \n 39  hour_range_4~8.59                       float64 \n 40  hour_range_9~10.59                      float64 \n 41  category_name_Asia/Form                 float64 \n 42  category_name_Asian                     float64 \n 43  category_name_Bossam                    float64 \n 44  category_name_Bossam/Jokbal             float64 \n 45  category_name_Cafe                      float64 \n 46  category_name_Café/Dessert              float64 \n 47  category_name_Category Unsuspected      float64 \n 48  category_name_Chicken/Pizza             float64 \n 49  category_name_Chinese food              float64 \n 50  category_name_Fast food                 float64 \n 51  category_name_Korean cuisine            float64 \n 52  category_name_Midnight meal             float64 \n 53  category_name_School food               float64 \n 54  category_name_an eclipse of the sun     float64 \n 55  category_name_chicken                   float64 \n 56  category_name_lunchbox                  float64 \n 57  category_name_pork cutlet/sashimi/work  float64 \n 58  amount_group_10000~20000                float64 \n 59  amount_group_20000~30000                float64 \n 60  amount_group_30000~35000                float64 \n 61  amount_group_35000~45000                float64 \n 62  amount_group_45000~50000                float64 \n 63  amount_group_50000~70000                float64 \n 64  amount_group_70000~90000                float64 \n 65  amount_group_90000~                     float64 \n 66  Labels                                  float64 \n 67  _merge                                  category\ndtypes: category(1), float64(53), int64(6), object(8)\nmemory usage: 4.5+ GB\n"
     ]
    }
   ],
   "source": [
    "df_m.info()"
   ]
  },
  {
   "cell_type": "code",
   "execution_count": null,
   "metadata": {},
   "outputs": [],
   "source": [
    "import seaborn as sns\n",
    "sns.countplot(x='Labels', data = df_m)"
   ]
  },
  {
   "cell_type": "code",
   "execution_count": null,
   "metadata": {},
   "outputs": [],
   "source": []
  }
 ]
}